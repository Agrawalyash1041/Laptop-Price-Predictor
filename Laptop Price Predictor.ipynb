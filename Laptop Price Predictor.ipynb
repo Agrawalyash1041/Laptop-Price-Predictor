{
 "cells": [
  {
   "cell_type": "markdown",
   "id": "9fc2e939",
   "metadata": {},
   "source": [
    "# Part 1 :- Installing and Importing Important Libraries\n",
    "---\n"
   ]
  },
  {
   "cell_type": "markdown",
   "id": "b867ffb0",
   "metadata": {},
   "source": [
    " Step 1 :- Installing required Functions and Libraries"
   ]
  },
  {
   "cell_type": "code",
   "execution_count": 1,
   "id": "b25b4aee",
   "metadata": {
    "scrolled": true
   },
   "outputs": [
    {
     "name": "stdout",
     "output_type": "stream",
     "text": [
      "Requirement already satisfied: opendatasets in c:\\users\\yasha\\appdata\\roaming\\python\\python39\\site-packages (0.1.22)\n",
      "Requirement already satisfied: click in c:\\users\\yasha\\anaconda3\\lib\\site-packages (from opendatasets) (8.0.4)\n",
      "Requirement already satisfied: tqdm in c:\\users\\yasha\\anaconda3\\lib\\site-packages (from opendatasets) (4.64.1)\n",
      "Requirement already satisfied: kaggle in c:\\users\\yasha\\appdata\\roaming\\python\\python39\\site-packages (from opendatasets) (1.5.12)\n",
      "Requirement already satisfied: colorama in c:\\users\\yasha\\anaconda3\\lib\\site-packages (from click->opendatasets) (0.4.5)\n",
      "Requirement already satisfied: urllib3 in c:\\users\\yasha\\anaconda3\\lib\\site-packages (from kaggle->opendatasets) (1.26.11)\n",
      "Requirement already satisfied: python-slugify in c:\\users\\yasha\\anaconda3\\lib\\site-packages (from kaggle->opendatasets) (5.0.2)\n",
      "Requirement already satisfied: python-dateutil in c:\\users\\yasha\\anaconda3\\lib\\site-packages (from kaggle->opendatasets) (2.8.2)\n",
      "Requirement already satisfied: certifi in c:\\users\\yasha\\anaconda3\\lib\\site-packages (from kaggle->opendatasets) (2022.9.14)\n",
      "Requirement already satisfied: requests in c:\\users\\yasha\\anaconda3\\lib\\site-packages (from kaggle->opendatasets) (2.28.1)\n",
      "Requirement already satisfied: six>=1.10 in c:\\users\\yasha\\anaconda3\\lib\\site-packages (from kaggle->opendatasets) (1.16.0)\n",
      "Requirement already satisfied: text-unidecode>=1.3 in c:\\users\\yasha\\anaconda3\\lib\\site-packages (from python-slugify->kaggle->opendatasets) (1.3)\n",
      "Requirement already satisfied: idna<4,>=2.5 in c:\\users\\yasha\\anaconda3\\lib\\site-packages (from requests->kaggle->opendatasets) (3.3)\n",
      "Requirement already satisfied: charset-normalizer<3,>=2 in c:\\users\\yasha\\anaconda3\\lib\\site-packages (from requests->kaggle->opendatasets) (2.0.4)\n",
      "Requirement already satisfied: numpy in c:\\users\\yasha\\anaconda3\\lib\\site-packages (1.21.5)\n",
      "Requirement already satisfied: pandas in c:\\users\\yasha\\anaconda3\\lib\\site-packages (1.4.4)\n",
      "Requirement already satisfied: pytz>=2020.1 in c:\\users\\yasha\\anaconda3\\lib\\site-packages (from pandas) (2022.1)\n",
      "Requirement already satisfied: numpy>=1.18.5 in c:\\users\\yasha\\anaconda3\\lib\\site-packages (from pandas) (1.21.5)\n",
      "Requirement already satisfied: python-dateutil>=2.8.1 in c:\\users\\yasha\\anaconda3\\lib\\site-packages (from pandas) (2.8.2)\n",
      "Requirement already satisfied: six>=1.5 in c:\\users\\yasha\\anaconda3\\lib\\site-packages (from python-dateutil>=2.8.1->pandas) (1.16.0)\n",
      "Requirement already satisfied: seaborn in c:\\users\\yasha\\anaconda3\\lib\\site-packages (0.11.2)\n",
      "Requirement already satisfied: numpy>=1.15 in c:\\users\\yasha\\anaconda3\\lib\\site-packages (from seaborn) (1.21.5)\n",
      "Requirement already satisfied: matplotlib>=2.2 in c:\\users\\yasha\\anaconda3\\lib\\site-packages (from seaborn) (3.5.2)\n",
      "Requirement already satisfied: scipy>=1.0 in c:\\users\\yasha\\anaconda3\\lib\\site-packages (from seaborn) (1.9.1)\n",
      "Requirement already satisfied: pandas>=0.23 in c:\\users\\yasha\\anaconda3\\lib\\site-packages (from seaborn) (1.4.4)\n",
      "Requirement already satisfied: python-dateutil>=2.7 in c:\\users\\yasha\\anaconda3\\lib\\site-packages (from matplotlib>=2.2->seaborn) (2.8.2)\n",
      "Requirement already satisfied: cycler>=0.10 in c:\\users\\yasha\\anaconda3\\lib\\site-packages (from matplotlib>=2.2->seaborn) (0.11.0)\n",
      "Requirement already satisfied: pillow>=6.2.0 in c:\\users\\yasha\\anaconda3\\lib\\site-packages (from matplotlib>=2.2->seaborn) (9.2.0)\n",
      "Requirement already satisfied: fonttools>=4.22.0 in c:\\users\\yasha\\anaconda3\\lib\\site-packages (from matplotlib>=2.2->seaborn) (4.25.0)\n",
      "Requirement already satisfied: kiwisolver>=1.0.1 in c:\\users\\yasha\\anaconda3\\lib\\site-packages (from matplotlib>=2.2->seaborn) (1.4.2)\n",
      "Requirement already satisfied: pyparsing>=2.2.1 in c:\\users\\yasha\\anaconda3\\lib\\site-packages (from matplotlib>=2.2->seaborn) (3.0.9)\n",
      "Requirement already satisfied: packaging>=20.0 in c:\\users\\yasha\\anaconda3\\lib\\site-packages (from matplotlib>=2.2->seaborn) (21.3)\n",
      "Requirement already satisfied: pytz>=2020.1 in c:\\users\\yasha\\anaconda3\\lib\\site-packages (from pandas>=0.23->seaborn) (2022.1)\n",
      "Requirement already satisfied: six>=1.5 in c:\\users\\yasha\\anaconda3\\lib\\site-packages (from python-dateutil>=2.7->matplotlib>=2.2->seaborn) (1.16.0)\n",
      "Requirement already satisfied: matplotlib in c:\\users\\yasha\\anaconda3\\lib\\site-packages (3.5.2)\n",
      "Requirement already satisfied: numpy>=1.17 in c:\\users\\yasha\\anaconda3\\lib\\site-packages (from matplotlib) (1.21.5)\n",
      "Requirement already satisfied: packaging>=20.0 in c:\\users\\yasha\\anaconda3\\lib\\site-packages (from matplotlib) (21.3)\n",
      "Requirement already satisfied: cycler>=0.10 in c:\\users\\yasha\\anaconda3\\lib\\site-packages (from matplotlib) (0.11.0)\n",
      "Requirement already satisfied: pyparsing>=2.2.1 in c:\\users\\yasha\\anaconda3\\lib\\site-packages (from matplotlib) (3.0.9)\n",
      "Requirement already satisfied: kiwisolver>=1.0.1 in c:\\users\\yasha\\anaconda3\\lib\\site-packages (from matplotlib) (1.4.2)\n",
      "Requirement already satisfied: fonttools>=4.22.0 in c:\\users\\yasha\\anaconda3\\lib\\site-packages (from matplotlib) (4.25.0)\n",
      "Requirement already satisfied: python-dateutil>=2.7 in c:\\users\\yasha\\anaconda3\\lib\\site-packages (from matplotlib) (2.8.2)\n",
      "Requirement already satisfied: pillow>=6.2.0 in c:\\users\\yasha\\anaconda3\\lib\\site-packages (from matplotlib) (9.2.0)\n",
      "Requirement already satisfied: six>=1.5 in c:\\users\\yasha\\anaconda3\\lib\\site-packages (from python-dateutil>=2.7->matplotlib) (1.16.0)\n",
      "Requirement already satisfied: xgboost in c:\\users\\yasha\\anaconda3\\lib\\site-packages (1.7.2)\n",
      "Requirement already satisfied: scipy in c:\\users\\yasha\\anaconda3\\lib\\site-packages (from xgboost) (1.9.1)\n",
      "Requirement already satisfied: numpy in c:\\users\\yasha\\anaconda3\\lib\\site-packages (from xgboost) (1.21.5)\n"
     ]
    }
   ],
   "source": [
    "!pip install opendatasets\n",
    "!pip install numpy\n",
    "!pip install pandas\n",
    "!pip install seaborn\n",
    "!pip install matplotlib\n",
    "!pip install xgboost"
   ]
  },
  {
   "cell_type": "markdown",
   "id": "9635387c",
   "metadata": {},
   "source": [
    "Step 2 :- Importing required Functions and Libraries"
   ]
  },
  {
   "cell_type": "code",
   "execution_count": 2,
   "id": "e7c7c897",
   "metadata": {},
   "outputs": [],
   "source": [
    "import numpy as np\n",
    "import pandas as pd\n",
    "import seaborn as sns\n",
    "import opendatasets as od\n",
    "import matplotlib.pyplot as plt\n",
    "import warnings\n",
    "warnings.filterwarnings('ignore') ## to Avoid the filter warnings"
   ]
  },
  {
   "cell_type": "markdown",
   "id": "79908e81",
   "metadata": {},
   "source": [
    "# Part 2 :- Importing Dataset\n",
    "---\n"
   ]
  },
  {
   "cell_type": "code",
   "execution_count": 3,
   "id": "11880bc0",
   "metadata": {
    "scrolled": true
   },
   "outputs": [
    {
     "name": "stdout",
     "output_type": "stream",
     "text": [
      "Skipping, found downloaded files in \".\\laptop-price-dataset\" (use force=True to force download)\n"
     ]
    }
   ],
   "source": [
    "dataset = \"https://www.kaggle.com/datasets/mohidabdulrehman/laptop-price-dataset\"\n",
    "od.download(dataset)"
   ]
  },
  {
   "cell_type": "code",
   "execution_count": 4,
   "id": "9c1378b3",
   "metadata": {},
   "outputs": [
    {
     "data": {
      "text/plain": [
       "['laptop_data.csv']"
      ]
     },
     "execution_count": 4,
     "metadata": {},
     "output_type": "execute_result"
    }
   ],
   "source": [
    "import os\n",
    "data_dir = \".\\\\laptop-price-dataset\"\n",
    "os.listdir(data_dir)"
   ]
  },
  {
   "cell_type": "code",
   "execution_count": 5,
   "id": "8e0a09c2",
   "metadata": {},
   "outputs": [
    {
     "data": {
      "text/html": [
       "<div>\n",
       "<style scoped>\n",
       "    .dataframe tbody tr th:only-of-type {\n",
       "        vertical-align: middle;\n",
       "    }\n",
       "\n",
       "    .dataframe tbody tr th {\n",
       "        vertical-align: top;\n",
       "    }\n",
       "\n",
       "    .dataframe thead th {\n",
       "        text-align: right;\n",
       "    }\n",
       "</style>\n",
       "<table border=\"1\" class=\"dataframe\">\n",
       "  <thead>\n",
       "    <tr style=\"text-align: right;\">\n",
       "      <th></th>\n",
       "      <th>Unnamed: 0</th>\n",
       "      <th>Company</th>\n",
       "      <th>TypeName</th>\n",
       "      <th>Inches</th>\n",
       "      <th>ScreenResolution</th>\n",
       "      <th>Cpu</th>\n",
       "      <th>Ram</th>\n",
       "      <th>Memory</th>\n",
       "      <th>Gpu</th>\n",
       "      <th>OpSys</th>\n",
       "      <th>Weight</th>\n",
       "      <th>Price</th>\n",
       "    </tr>\n",
       "  </thead>\n",
       "  <tbody>\n",
       "    <tr>\n",
       "      <th>0</th>\n",
       "      <td>0</td>\n",
       "      <td>Apple</td>\n",
       "      <td>Ultrabook</td>\n",
       "      <td>13.3</td>\n",
       "      <td>IPS Panel Retina Display 2560x1600</td>\n",
       "      <td>Intel Core i5 2.3GHz</td>\n",
       "      <td>8GB</td>\n",
       "      <td>128GB SSD</td>\n",
       "      <td>Intel Iris Plus Graphics 640</td>\n",
       "      <td>macOS</td>\n",
       "      <td>1.37kg</td>\n",
       "      <td>71378.6832</td>\n",
       "    </tr>\n",
       "    <tr>\n",
       "      <th>1</th>\n",
       "      <td>1</td>\n",
       "      <td>Apple</td>\n",
       "      <td>Ultrabook</td>\n",
       "      <td>13.3</td>\n",
       "      <td>1440x900</td>\n",
       "      <td>Intel Core i5 1.8GHz</td>\n",
       "      <td>8GB</td>\n",
       "      <td>128GB Flash Storage</td>\n",
       "      <td>Intel HD Graphics 6000</td>\n",
       "      <td>macOS</td>\n",
       "      <td>1.34kg</td>\n",
       "      <td>47895.5232</td>\n",
       "    </tr>\n",
       "    <tr>\n",
       "      <th>2</th>\n",
       "      <td>2</td>\n",
       "      <td>HP</td>\n",
       "      <td>Notebook</td>\n",
       "      <td>15.6</td>\n",
       "      <td>Full HD 1920x1080</td>\n",
       "      <td>Intel Core i5 7200U 2.5GHz</td>\n",
       "      <td>8GB</td>\n",
       "      <td>256GB SSD</td>\n",
       "      <td>Intel HD Graphics 620</td>\n",
       "      <td>No OS</td>\n",
       "      <td>1.86kg</td>\n",
       "      <td>30636.0000</td>\n",
       "    </tr>\n",
       "    <tr>\n",
       "      <th>3</th>\n",
       "      <td>3</td>\n",
       "      <td>Apple</td>\n",
       "      <td>Ultrabook</td>\n",
       "      <td>15.4</td>\n",
       "      <td>IPS Panel Retina Display 2880x1800</td>\n",
       "      <td>Intel Core i7 2.7GHz</td>\n",
       "      <td>16GB</td>\n",
       "      <td>512GB SSD</td>\n",
       "      <td>AMD Radeon Pro 455</td>\n",
       "      <td>macOS</td>\n",
       "      <td>1.83kg</td>\n",
       "      <td>135195.3360</td>\n",
       "    </tr>\n",
       "    <tr>\n",
       "      <th>4</th>\n",
       "      <td>4</td>\n",
       "      <td>Apple</td>\n",
       "      <td>Ultrabook</td>\n",
       "      <td>13.3</td>\n",
       "      <td>IPS Panel Retina Display 2560x1600</td>\n",
       "      <td>Intel Core i5 3.1GHz</td>\n",
       "      <td>8GB</td>\n",
       "      <td>256GB SSD</td>\n",
       "      <td>Intel Iris Plus Graphics 650</td>\n",
       "      <td>macOS</td>\n",
       "      <td>1.37kg</td>\n",
       "      <td>96095.8080</td>\n",
       "    </tr>\n",
       "  </tbody>\n",
       "</table>\n",
       "</div>"
      ],
      "text/plain": [
       "   Unnamed: 0 Company   TypeName  Inches                    ScreenResolution  \\\n",
       "0           0   Apple  Ultrabook    13.3  IPS Panel Retina Display 2560x1600   \n",
       "1           1   Apple  Ultrabook    13.3                            1440x900   \n",
       "2           2      HP   Notebook    15.6                   Full HD 1920x1080   \n",
       "3           3   Apple  Ultrabook    15.4  IPS Panel Retina Display 2880x1800   \n",
       "4           4   Apple  Ultrabook    13.3  IPS Panel Retina Display 2560x1600   \n",
       "\n",
       "                          Cpu   Ram               Memory  \\\n",
       "0        Intel Core i5 2.3GHz   8GB            128GB SSD   \n",
       "1        Intel Core i5 1.8GHz   8GB  128GB Flash Storage   \n",
       "2  Intel Core i5 7200U 2.5GHz   8GB            256GB SSD   \n",
       "3        Intel Core i7 2.7GHz  16GB            512GB SSD   \n",
       "4        Intel Core i5 3.1GHz   8GB            256GB SSD   \n",
       "\n",
       "                            Gpu  OpSys  Weight        Price  \n",
       "0  Intel Iris Plus Graphics 640  macOS  1.37kg   71378.6832  \n",
       "1        Intel HD Graphics 6000  macOS  1.34kg   47895.5232  \n",
       "2         Intel HD Graphics 620  No OS  1.86kg   30636.0000  \n",
       "3            AMD Radeon Pro 455  macOS  1.83kg  135195.3360  \n",
       "4  Intel Iris Plus Graphics 650  macOS  1.37kg   96095.8080  "
      ]
     },
     "execution_count": 5,
     "metadata": {},
     "output_type": "execute_result"
    }
   ],
   "source": [
    "laptop_df = pd.read_csv(\".\\\\laptop-price-dataset\\laptop_data.csv\")\n",
    "laptop_df.head()"
   ]
  },
  {
   "cell_type": "code",
   "execution_count": 6,
   "id": "d11b4f77",
   "metadata": {},
   "outputs": [
    {
     "name": "stdout",
     "output_type": "stream",
     "text": [
      "The Data Contains 1303 rows & 12 columns.\n"
     ]
    }
   ],
   "source": [
    "print(f'The Data Contains {laptop_df.shape[0]} rows & {laptop_df.shape[1]} columns.')"
   ]
  },
  {
   "cell_type": "markdown",
   "id": "144a7775",
   "metadata": {},
   "source": [
    "# Step 3 :- Data Preprocessing \n",
    "---"
   ]
  },
  {
   "cell_type": "code",
   "execution_count": 7,
   "id": "4590e547",
   "metadata": {},
   "outputs": [
    {
     "name": "stdout",
     "output_type": "stream",
     "text": [
      "<class 'pandas.core.frame.DataFrame'>\n",
      "RangeIndex: 1303 entries, 0 to 1302\n",
      "Data columns (total 12 columns):\n",
      " #   Column            Non-Null Count  Dtype  \n",
      "---  ------            --------------  -----  \n",
      " 0   Unnamed: 0        1303 non-null   int64  \n",
      " 1   Company           1303 non-null   object \n",
      " 2   TypeName          1303 non-null   object \n",
      " 3   Inches            1303 non-null   float64\n",
      " 4   ScreenResolution  1303 non-null   object \n",
      " 5   Cpu               1303 non-null   object \n",
      " 6   Ram               1303 non-null   object \n",
      " 7   Memory            1303 non-null   object \n",
      " 8   Gpu               1303 non-null   object \n",
      " 9   OpSys             1303 non-null   object \n",
      " 10  Weight            1303 non-null   object \n",
      " 11  Price             1303 non-null   float64\n",
      "dtypes: float64(2), int64(1), object(9)\n",
      "memory usage: 122.3+ KB\n"
     ]
    }
   ],
   "source": [
    "laptop_df.info()"
   ]
  },
  {
   "cell_type": "code",
   "execution_count": 8,
   "id": "393265c4",
   "metadata": {},
   "outputs": [
    {
     "data": {
      "text/html": [
       "<div>\n",
       "<style scoped>\n",
       "    .dataframe tbody tr th:only-of-type {\n",
       "        vertical-align: middle;\n",
       "    }\n",
       "\n",
       "    .dataframe tbody tr th {\n",
       "        vertical-align: top;\n",
       "    }\n",
       "\n",
       "    .dataframe thead th {\n",
       "        text-align: right;\n",
       "    }\n",
       "</style>\n",
       "<table border=\"1\" class=\"dataframe\">\n",
       "  <thead>\n",
       "    <tr style=\"text-align: right;\">\n",
       "      <th></th>\n",
       "      <th>count</th>\n",
       "      <th>mean</th>\n",
       "      <th>std</th>\n",
       "      <th>min</th>\n",
       "      <th>25%</th>\n",
       "      <th>50%</th>\n",
       "      <th>75%</th>\n",
       "      <th>max</th>\n",
       "    </tr>\n",
       "  </thead>\n",
       "  <tbody>\n",
       "    <tr>\n",
       "      <th>Unnamed: 0</th>\n",
       "      <td>1303.0</td>\n",
       "      <td>651.000000</td>\n",
       "      <td>376.288010</td>\n",
       "      <td>0.00</td>\n",
       "      <td>325.50</td>\n",
       "      <td>651.00</td>\n",
       "      <td>976.5000</td>\n",
       "      <td>1302.00</td>\n",
       "    </tr>\n",
       "    <tr>\n",
       "      <th>Inches</th>\n",
       "      <td>1303.0</td>\n",
       "      <td>15.017191</td>\n",
       "      <td>1.426304</td>\n",
       "      <td>10.10</td>\n",
       "      <td>14.00</td>\n",
       "      <td>15.60</td>\n",
       "      <td>15.6000</td>\n",
       "      <td>18.40</td>\n",
       "    </tr>\n",
       "    <tr>\n",
       "      <th>Price</th>\n",
       "      <td>1303.0</td>\n",
       "      <td>59870.042910</td>\n",
       "      <td>37243.201786</td>\n",
       "      <td>9270.72</td>\n",
       "      <td>31914.72</td>\n",
       "      <td>52054.56</td>\n",
       "      <td>79274.2464</td>\n",
       "      <td>324954.72</td>\n",
       "    </tr>\n",
       "  </tbody>\n",
       "</table>\n",
       "</div>"
      ],
      "text/plain": [
       "             count          mean           std      min       25%       50%  \\\n",
       "Unnamed: 0  1303.0    651.000000    376.288010     0.00    325.50    651.00   \n",
       "Inches      1303.0     15.017191      1.426304    10.10     14.00     15.60   \n",
       "Price       1303.0  59870.042910  37243.201786  9270.72  31914.72  52054.56   \n",
       "\n",
       "                   75%        max  \n",
       "Unnamed: 0    976.5000    1302.00  \n",
       "Inches         15.6000      18.40  \n",
       "Price       79274.2464  324954.72  "
      ]
     },
     "execution_count": 8,
     "metadata": {},
     "output_type": "execute_result"
    }
   ],
   "source": [
    "laptop_df.describe().T"
   ]
  },
  {
   "cell_type": "markdown",
   "id": "37f27940",
   "metadata": {},
   "source": [
    "1. Removing Unwanted Columns "
   ]
  },
  {
   "cell_type": "code",
   "execution_count": 9,
   "id": "8fd2c0ab",
   "metadata": {
    "scrolled": true
   },
   "outputs": [
    {
     "data": {
      "text/plain": [
       "Index(['Unnamed: 0', 'Company', 'TypeName', 'Inches', 'ScreenResolution',\n",
       "       'Cpu', 'Ram', 'Memory', 'Gpu', 'OpSys', 'Weight', 'Price'],\n",
       "      dtype='object')"
      ]
     },
     "execution_count": 9,
     "metadata": {},
     "output_type": "execute_result"
    }
   ],
   "source": [
    "laptop_df.columns"
   ]
  },
  {
   "cell_type": "code",
   "execution_count": 10,
   "id": "3368baff",
   "metadata": {},
   "outputs": [],
   "source": [
    "laptop_df.drop(columns = ['Unnamed: 0'],inplace = True)"
   ]
  },
  {
   "cell_type": "markdown",
   "id": "90836217",
   "metadata": {},
   "source": [
    "2. Removing Kg from the Weight column and Converting it into \"float\" column"
   ]
  },
  {
   "cell_type": "code",
   "execution_count": 11,
   "id": "fbb742c0",
   "metadata": {},
   "outputs": [
    {
     "data": {
      "text/html": [
       "<div>\n",
       "<style scoped>\n",
       "    .dataframe tbody tr th:only-of-type {\n",
       "        vertical-align: middle;\n",
       "    }\n",
       "\n",
       "    .dataframe tbody tr th {\n",
       "        vertical-align: top;\n",
       "    }\n",
       "\n",
       "    .dataframe thead th {\n",
       "        text-align: right;\n",
       "    }\n",
       "</style>\n",
       "<table border=\"1\" class=\"dataframe\">\n",
       "  <thead>\n",
       "    <tr style=\"text-align: right;\">\n",
       "      <th></th>\n",
       "      <th>Company</th>\n",
       "      <th>TypeName</th>\n",
       "      <th>Inches</th>\n",
       "      <th>ScreenResolution</th>\n",
       "      <th>Cpu</th>\n",
       "      <th>Ram</th>\n",
       "      <th>Memory</th>\n",
       "      <th>Gpu</th>\n",
       "      <th>OpSys</th>\n",
       "      <th>Weight</th>\n",
       "      <th>Price</th>\n",
       "    </tr>\n",
       "  </thead>\n",
       "  <tbody>\n",
       "    <tr>\n",
       "      <th>0</th>\n",
       "      <td>Apple</td>\n",
       "      <td>Ultrabook</td>\n",
       "      <td>13.3</td>\n",
       "      <td>IPS Panel Retina Display 2560x1600</td>\n",
       "      <td>Intel Core i5 2.3GHz</td>\n",
       "      <td>8GB</td>\n",
       "      <td>128GB SSD</td>\n",
       "      <td>Intel Iris Plus Graphics 640</td>\n",
       "      <td>macOS</td>\n",
       "      <td>1.37</td>\n",
       "      <td>71378.6832</td>\n",
       "    </tr>\n",
       "  </tbody>\n",
       "</table>\n",
       "</div>"
      ],
      "text/plain": [
       "  Company   TypeName  Inches                    ScreenResolution  \\\n",
       "0   Apple  Ultrabook    13.3  IPS Panel Retina Display 2560x1600   \n",
       "\n",
       "                    Cpu  Ram     Memory                           Gpu  OpSys  \\\n",
       "0  Intel Core i5 2.3GHz  8GB  128GB SSD  Intel Iris Plus Graphics 640  macOS   \n",
       "\n",
       "   Weight       Price  \n",
       "0    1.37  71378.6832  "
      ]
     },
     "execution_count": 11,
     "metadata": {},
     "output_type": "execute_result"
    }
   ],
   "source": [
    "laptop_df['Weight'] = laptop_df['Weight'].str.replace('kg', \"\")\n",
    "laptop_df['Weight'] = laptop_df['Weight'].astype('float64')\n",
    "laptop_df.head(1)"
   ]
  },
  {
   "cell_type": "markdown",
   "id": "d0f1d903",
   "metadata": {},
   "source": [
    "3. Removing GB from the Ram column and Converting it into \"int\" column"
   ]
  },
  {
   "cell_type": "code",
   "execution_count": 12,
   "id": "83bf3846",
   "metadata": {},
   "outputs": [
    {
     "data": {
      "text/html": [
       "<div>\n",
       "<style scoped>\n",
       "    .dataframe tbody tr th:only-of-type {\n",
       "        vertical-align: middle;\n",
       "    }\n",
       "\n",
       "    .dataframe tbody tr th {\n",
       "        vertical-align: top;\n",
       "    }\n",
       "\n",
       "    .dataframe thead th {\n",
       "        text-align: right;\n",
       "    }\n",
       "</style>\n",
       "<table border=\"1\" class=\"dataframe\">\n",
       "  <thead>\n",
       "    <tr style=\"text-align: right;\">\n",
       "      <th></th>\n",
       "      <th>Company</th>\n",
       "      <th>TypeName</th>\n",
       "      <th>Inches</th>\n",
       "      <th>ScreenResolution</th>\n",
       "      <th>Cpu</th>\n",
       "      <th>Ram</th>\n",
       "      <th>Memory</th>\n",
       "      <th>Gpu</th>\n",
       "      <th>OpSys</th>\n",
       "      <th>Weight</th>\n",
       "      <th>Price</th>\n",
       "    </tr>\n",
       "  </thead>\n",
       "  <tbody>\n",
       "    <tr>\n",
       "      <th>0</th>\n",
       "      <td>Apple</td>\n",
       "      <td>Ultrabook</td>\n",
       "      <td>13.3</td>\n",
       "      <td>IPS Panel Retina Display 2560x1600</td>\n",
       "      <td>Intel Core i5 2.3GHz</td>\n",
       "      <td>8</td>\n",
       "      <td>128GB SSD</td>\n",
       "      <td>Intel Iris Plus Graphics 640</td>\n",
       "      <td>macOS</td>\n",
       "      <td>1.37</td>\n",
       "      <td>71378.6832</td>\n",
       "    </tr>\n",
       "  </tbody>\n",
       "</table>\n",
       "</div>"
      ],
      "text/plain": [
       "  Company   TypeName  Inches                    ScreenResolution  \\\n",
       "0   Apple  Ultrabook    13.3  IPS Panel Retina Display 2560x1600   \n",
       "\n",
       "                    Cpu  Ram     Memory                           Gpu  OpSys  \\\n",
       "0  Intel Core i5 2.3GHz    8  128GB SSD  Intel Iris Plus Graphics 640  macOS   \n",
       "\n",
       "   Weight       Price  \n",
       "0    1.37  71378.6832  "
      ]
     },
     "execution_count": 12,
     "metadata": {},
     "output_type": "execute_result"
    }
   ],
   "source": [
    "laptop_df['Ram'] = laptop_df['Ram'].str.replace('GB', \"\")\n",
    "laptop_df['Ram'] = laptop_df['Ram'].astype('int64')\n",
    "laptop_df.head(1)"
   ]
  },
  {
   "cell_type": "markdown",
   "id": "86aca99f",
   "metadata": {},
   "source": [
    "4. Extracting The CPU Brand from the CPU Column"
   ]
  },
  {
   "cell_type": "code",
   "execution_count": 13,
   "id": "253591fb",
   "metadata": {},
   "outputs": [],
   "source": [
    "laptop_df['CpuName'] = laptop_df['Cpu'].apply(lambda x :\" \" .join(x.split()[:3]))"
   ]
  },
  {
   "cell_type": "code",
   "execution_count": 14,
   "id": "e9c8522c",
   "metadata": {},
   "outputs": [],
   "source": [
    "### User Defined Function to extract the CPU Brand\n",
    "\n",
    "def fetch_brand(text):\n",
    "    if text == 'Intel Core i7' or text == 'Intel Core i5' or text == 'Intel Core i3':\n",
    "        return text\n",
    "    else:\n",
    "        if text.split()[0] == 'Intel':\n",
    "            return 'Other Intel Processor'\n",
    "        else:\n",
    "            return 'AMD Processor'"
   ]
  },
  {
   "cell_type": "code",
   "execution_count": 15,
   "id": "102c00f7",
   "metadata": {},
   "outputs": [
    {
     "data": {
      "text/html": [
       "<div>\n",
       "<style scoped>\n",
       "    .dataframe tbody tr th:only-of-type {\n",
       "        vertical-align: middle;\n",
       "    }\n",
       "\n",
       "    .dataframe tbody tr th {\n",
       "        vertical-align: top;\n",
       "    }\n",
       "\n",
       "    .dataframe thead th {\n",
       "        text-align: right;\n",
       "    }\n",
       "</style>\n",
       "<table border=\"1\" class=\"dataframe\">\n",
       "  <thead>\n",
       "    <tr style=\"text-align: right;\">\n",
       "      <th></th>\n",
       "      <th>Company</th>\n",
       "      <th>TypeName</th>\n",
       "      <th>Inches</th>\n",
       "      <th>ScreenResolution</th>\n",
       "      <th>Ram</th>\n",
       "      <th>Memory</th>\n",
       "      <th>Gpu</th>\n",
       "      <th>OpSys</th>\n",
       "      <th>Weight</th>\n",
       "      <th>Price</th>\n",
       "      <th>Processor_Brand</th>\n",
       "    </tr>\n",
       "  </thead>\n",
       "  <tbody>\n",
       "    <tr>\n",
       "      <th>0</th>\n",
       "      <td>Apple</td>\n",
       "      <td>Ultrabook</td>\n",
       "      <td>13.3</td>\n",
       "      <td>IPS Panel Retina Display 2560x1600</td>\n",
       "      <td>8</td>\n",
       "      <td>128GB SSD</td>\n",
       "      <td>Intel Iris Plus Graphics 640</td>\n",
       "      <td>macOS</td>\n",
       "      <td>1.37</td>\n",
       "      <td>71378.6832</td>\n",
       "      <td>Intel Core i5</td>\n",
       "    </tr>\n",
       "  </tbody>\n",
       "</table>\n",
       "</div>"
      ],
      "text/plain": [
       "  Company   TypeName  Inches                    ScreenResolution  Ram  \\\n",
       "0   Apple  Ultrabook    13.3  IPS Panel Retina Display 2560x1600    8   \n",
       "\n",
       "      Memory                           Gpu  OpSys  Weight       Price  \\\n",
       "0  128GB SSD  Intel Iris Plus Graphics 640  macOS    1.37  71378.6832   \n",
       "\n",
       "  Processor_Brand  \n",
       "0   Intel Core i5  "
      ]
     },
     "execution_count": 15,
     "metadata": {},
     "output_type": "execute_result"
    }
   ],
   "source": [
    "laptop_df['Processor_Brand'] = laptop_df['CpuName'].apply(fetch_brand)\n",
    "\n",
    "### Removing Unwanted Columns\n",
    "\n",
    "laptop_df.drop(columns = ['Cpu',\"CpuName\"],inplace = True)\n",
    "\n",
    "laptop_df.head(1)"
   ]
  },
  {
   "cell_type": "markdown",
   "id": "6ebb52b4",
   "metadata": {},
   "source": [
    "5. Extracting the Operating system name from OpSys column"
   ]
  },
  {
   "cell_type": "code",
   "execution_count": 16,
   "id": "acfe3a6b",
   "metadata": {},
   "outputs": [
    {
     "data": {
      "text/plain": [
       "array(['macOS', 'No OS', 'Windows 10', 'Mac OS X', 'Linux', 'Android',\n",
       "       'Windows 10 S', 'Chrome OS', 'Windows 7'], dtype=object)"
      ]
     },
     "execution_count": 16,
     "metadata": {},
     "output_type": "execute_result"
    }
   ],
   "source": [
    "laptop_df['OpSys'].unique()"
   ]
  },
  {
   "cell_type": "code",
   "execution_count": 17,
   "id": "5e3bc317",
   "metadata": {},
   "outputs": [
    {
     "data": {
      "text/plain": [
       "array(['Mac OS', 'No OS', 'Windows OS', 'Linux', 'Android', 'Chrome OS'],\n",
       "      dtype=object)"
      ]
     },
     "execution_count": 17,
     "metadata": {},
     "output_type": "execute_result"
    }
   ],
   "source": [
    "### Using str.repplace to replace windows10/10s/7 with windows\n",
    "\n",
    "laptop_df['OpSys'] = laptop_df['OpSys'].str.replace(\"Windows 10\",\n",
    "                                                    'Windows OS').str.replace(\"Windows 10 S\",\n",
    "                                                                                           'Windows OS').str.replace(\"Windows 7\",\n",
    "                                                                                                                     'Windows OS').str.replace(\"Windows OS S\",\n",
    "                                                                                                                                               'Windows OS')\n",
    "laptop_df['OpSys'] = laptop_df['OpSys'].str.replace(\"macOS\",'Mac OS').str.replace(\"Mac OS X\",'Mac OS')\n",
    "\n",
    "laptop_df.rename(columns = {\"OpSys\":'OS'},inplace = True)\n",
    "laptop_df.OS.unique()"
   ]
  },
  {
   "cell_type": "markdown",
   "id": "aba55ea2",
   "metadata": {},
   "source": [
    "6. Extracting the GPU Brand fromthe GPU Column"
   ]
  },
  {
   "cell_type": "code",
   "execution_count": 18,
   "id": "8060fb5d",
   "metadata": {},
   "outputs": [
    {
     "data": {
      "text/plain": [
       "Intel HD Graphics 620      281\n",
       "Intel HD Graphics 520      185\n",
       "Intel UHD Graphics 620      68\n",
       "Nvidia GeForce GTX 1050     66\n",
       "Nvidia GeForce GTX 1060     48\n",
       "                          ... \n",
       "AMD Radeon R5 520            1\n",
       "AMD Radeon R7                1\n",
       "Intel HD Graphics 540        1\n",
       "AMD Radeon 540               1\n",
       "ARM Mali T860 MP4            1\n",
       "Name: Gpu, Length: 110, dtype: int64"
      ]
     },
     "execution_count": 18,
     "metadata": {},
     "output_type": "execute_result"
    }
   ],
   "source": [
    "laptop_df.Gpu.value_counts()"
   ]
  },
  {
   "cell_type": "code",
   "execution_count": 19,
   "id": "cafd284b",
   "metadata": {},
   "outputs": [],
   "source": [
    "laptop_df['Gpu_Brand']  = laptop_df['Gpu'].apply(lambda x:x.split()[0])\n",
    "laptop_df.drop(columns = ['Gpu'],inplace = True)"
   ]
  },
  {
   "cell_type": "code",
   "execution_count": 20,
   "id": "ea1a69f8",
   "metadata": {},
   "outputs": [
    {
     "data": {
      "text/plain": [
       "Intel     722\n",
       "Nvidia    400\n",
       "AMD       180\n",
       "ARM         1\n",
       "Name: Gpu_Brand, dtype: int64"
      ]
     },
     "execution_count": 20,
     "metadata": {},
     "output_type": "execute_result"
    }
   ],
   "source": [
    "laptop_df.Gpu_Brand.value_counts()"
   ]
  },
  {
   "cell_type": "markdown",
   "id": "31506413",
   "metadata": {},
   "source": [
    "7. Lets extract if there are any IPS displays from the Screen resolution"
   ]
  },
  {
   "cell_type": "code",
   "execution_count": 21,
   "id": "55fa84e4",
   "metadata": {},
   "outputs": [
    {
     "data": {
      "text/html": [
       "<div>\n",
       "<style scoped>\n",
       "    .dataframe tbody tr th:only-of-type {\n",
       "        vertical-align: middle;\n",
       "    }\n",
       "\n",
       "    .dataframe tbody tr th {\n",
       "        vertical-align: top;\n",
       "    }\n",
       "\n",
       "    .dataframe thead th {\n",
       "        text-align: right;\n",
       "    }\n",
       "</style>\n",
       "<table border=\"1\" class=\"dataframe\">\n",
       "  <thead>\n",
       "    <tr style=\"text-align: right;\">\n",
       "      <th></th>\n",
       "      <th>Company</th>\n",
       "      <th>TypeName</th>\n",
       "      <th>Inches</th>\n",
       "      <th>ScreenResolution</th>\n",
       "      <th>Ram</th>\n",
       "      <th>Memory</th>\n",
       "      <th>OS</th>\n",
       "      <th>Weight</th>\n",
       "      <th>Price</th>\n",
       "      <th>Processor_Brand</th>\n",
       "      <th>Gpu_Brand</th>\n",
       "      <th>IPS</th>\n",
       "    </tr>\n",
       "  </thead>\n",
       "  <tbody>\n",
       "    <tr>\n",
       "      <th>0</th>\n",
       "      <td>Apple</td>\n",
       "      <td>Ultrabook</td>\n",
       "      <td>13.3</td>\n",
       "      <td>IPS Panel Retina Display 2560x1600</td>\n",
       "      <td>8</td>\n",
       "      <td>128GB SSD</td>\n",
       "      <td>Mac OS</td>\n",
       "      <td>1.37</td>\n",
       "      <td>71378.6832</td>\n",
       "      <td>Intel Core i5</td>\n",
       "      <td>Intel</td>\n",
       "      <td>1</td>\n",
       "    </tr>\n",
       "  </tbody>\n",
       "</table>\n",
       "</div>"
      ],
      "text/plain": [
       "  Company   TypeName  Inches                    ScreenResolution  Ram  \\\n",
       "0   Apple  Ultrabook    13.3  IPS Panel Retina Display 2560x1600    8   \n",
       "\n",
       "      Memory      OS  Weight       Price Processor_Brand Gpu_Brand  IPS  \n",
       "0  128GB SSD  Mac OS    1.37  71378.6832   Intel Core i5     Intel    1  "
      ]
     },
     "execution_count": 21,
     "metadata": {},
     "output_type": "execute_result"
    }
   ],
   "source": [
    "# Fetching touchscreen data from screenresolution column\n",
    "laptop_df['IPS'] = laptop_df['ScreenResolution'].apply(lambda x:1 if \"IPS\" in x else 0)\n",
    "laptop_df.head(1)"
   ]
  },
  {
   "cell_type": "markdown",
   "id": "ab6eafa6",
   "metadata": {},
   "source": [
    "8. Lets Extract if there are any Touchscreen display from the Screen resolution Column"
   ]
  },
  {
   "cell_type": "code",
   "execution_count": 22,
   "id": "ff7dfff8",
   "metadata": {},
   "outputs": [
    {
     "data": {
      "text/html": [
       "<div>\n",
       "<style scoped>\n",
       "    .dataframe tbody tr th:only-of-type {\n",
       "        vertical-align: middle;\n",
       "    }\n",
       "\n",
       "    .dataframe tbody tr th {\n",
       "        vertical-align: top;\n",
       "    }\n",
       "\n",
       "    .dataframe thead th {\n",
       "        text-align: right;\n",
       "    }\n",
       "</style>\n",
       "<table border=\"1\" class=\"dataframe\">\n",
       "  <thead>\n",
       "    <tr style=\"text-align: right;\">\n",
       "      <th></th>\n",
       "      <th>Company</th>\n",
       "      <th>TypeName</th>\n",
       "      <th>Inches</th>\n",
       "      <th>ScreenResolution</th>\n",
       "      <th>Ram</th>\n",
       "      <th>Memory</th>\n",
       "      <th>OS</th>\n",
       "      <th>Weight</th>\n",
       "      <th>Price</th>\n",
       "      <th>Processor_Brand</th>\n",
       "      <th>Gpu_Brand</th>\n",
       "      <th>IPS</th>\n",
       "      <th>Touchscreen</th>\n",
       "    </tr>\n",
       "  </thead>\n",
       "  <tbody>\n",
       "    <tr>\n",
       "      <th>0</th>\n",
       "      <td>Apple</td>\n",
       "      <td>Ultrabook</td>\n",
       "      <td>13.3</td>\n",
       "      <td>IPS Panel Retina Display 2560x1600</td>\n",
       "      <td>8</td>\n",
       "      <td>128GB SSD</td>\n",
       "      <td>Mac OS</td>\n",
       "      <td>1.37</td>\n",
       "      <td>71378.6832</td>\n",
       "      <td>Intel Core i5</td>\n",
       "      <td>Intel</td>\n",
       "      <td>1</td>\n",
       "      <td>0</td>\n",
       "    </tr>\n",
       "  </tbody>\n",
       "</table>\n",
       "</div>"
      ],
      "text/plain": [
       "  Company   TypeName  Inches                    ScreenResolution  Ram  \\\n",
       "0   Apple  Ultrabook    13.3  IPS Panel Retina Display 2560x1600    8   \n",
       "\n",
       "      Memory      OS  Weight       Price Processor_Brand Gpu_Brand  IPS  \\\n",
       "0  128GB SSD  Mac OS    1.37  71378.6832   Intel Core i5     Intel    1   \n",
       "\n",
       "   Touchscreen  \n",
       "0            0  "
      ]
     },
     "execution_count": 22,
     "metadata": {},
     "output_type": "execute_result"
    }
   ],
   "source": [
    "laptop_df['Touchscreen'] = laptop_df['ScreenResolution'].apply(lambda x:1 if \"Touchscreen\" in x else 0)\n",
    "laptop_df.head(1)"
   ]
  },
  {
   "cell_type": "code",
   "execution_count": 23,
   "id": "3e199b3a",
   "metadata": {},
   "outputs": [
    {
     "data": {
      "text/html": [
       "<div>\n",
       "<style scoped>\n",
       "    .dataframe tbody tr th:only-of-type {\n",
       "        vertical-align: middle;\n",
       "    }\n",
       "\n",
       "    .dataframe tbody tr th {\n",
       "        vertical-align: top;\n",
       "    }\n",
       "\n",
       "    .dataframe thead th {\n",
       "        text-align: right;\n",
       "    }\n",
       "</style>\n",
       "<table border=\"1\" class=\"dataframe\">\n",
       "  <thead>\n",
       "    <tr style=\"text-align: right;\">\n",
       "      <th></th>\n",
       "      <th>Company</th>\n",
       "      <th>TypeName</th>\n",
       "      <th>Inches</th>\n",
       "      <th>Ram</th>\n",
       "      <th>Memory</th>\n",
       "      <th>OS</th>\n",
       "      <th>Weight</th>\n",
       "      <th>Price</th>\n",
       "      <th>Processor_Brand</th>\n",
       "      <th>Gpu_Brand</th>\n",
       "      <th>IPS</th>\n",
       "      <th>Touchscreen</th>\n",
       "    </tr>\n",
       "  </thead>\n",
       "  <tbody>\n",
       "    <tr>\n",
       "      <th>0</th>\n",
       "      <td>Apple</td>\n",
       "      <td>Ultrabook</td>\n",
       "      <td>13.3</td>\n",
       "      <td>8</td>\n",
       "      <td>128GB SSD</td>\n",
       "      <td>Mac OS</td>\n",
       "      <td>1.37</td>\n",
       "      <td>71378.6832</td>\n",
       "      <td>Intel Core i5</td>\n",
       "      <td>Intel</td>\n",
       "      <td>1</td>\n",
       "      <td>0</td>\n",
       "    </tr>\n",
       "    <tr>\n",
       "      <th>1</th>\n",
       "      <td>Apple</td>\n",
       "      <td>Ultrabook</td>\n",
       "      <td>13.3</td>\n",
       "      <td>8</td>\n",
       "      <td>128GB Flash Storage</td>\n",
       "      <td>Mac OS</td>\n",
       "      <td>1.34</td>\n",
       "      <td>47895.5232</td>\n",
       "      <td>Intel Core i5</td>\n",
       "      <td>Intel</td>\n",
       "      <td>0</td>\n",
       "      <td>0</td>\n",
       "    </tr>\n",
       "  </tbody>\n",
       "</table>\n",
       "</div>"
      ],
      "text/plain": [
       "  Company   TypeName  Inches  Ram               Memory      OS  Weight  \\\n",
       "0   Apple  Ultrabook    13.3    8            128GB SSD  Mac OS    1.37   \n",
       "1   Apple  Ultrabook    13.3    8  128GB Flash Storage  Mac OS    1.34   \n",
       "\n",
       "        Price Processor_Brand Gpu_Brand  IPS  Touchscreen  \n",
       "0  71378.6832   Intel Core i5     Intel    1            0  \n",
       "1  47895.5232   Intel Core i5     Intel    0            0  "
      ]
     },
     "execution_count": 23,
     "metadata": {},
     "output_type": "execute_result"
    }
   ],
   "source": [
    "## Lets drop the Screen Resolution column since its of no use now \n",
    "\n",
    "laptop_df.drop(columns = ['ScreenResolution'],inplace = True)\n",
    "laptop_df.head(2)"
   ]
  },
  {
   "cell_type": "markdown",
   "id": "f38e3502",
   "metadata": {},
   "source": [
    "9. Processing the Memory Column"
   ]
  },
  {
   "cell_type": "code",
   "execution_count": 24,
   "id": "69bdbbd8",
   "metadata": {
    "scrolled": true
   },
   "outputs": [
    {
     "data": {
      "text/plain": [
       "256GB SSD                        412\n",
       "1TB HDD                          223\n",
       "500GB HDD                        132\n",
       "512GB SSD                        118\n",
       "128GB SSD +  1TB HDD              94\n",
       "128GB SSD                         76\n",
       "256GB SSD +  1TB HDD              73\n",
       "32GB Flash Storage                38\n",
       "2TB HDD                           16\n",
       "64GB Flash Storage                15\n",
       "512GB SSD +  1TB HDD              14\n",
       "1TB SSD                           14\n",
       "256GB SSD +  2TB HDD              10\n",
       "1.0TB Hybrid                       9\n",
       "256GB Flash Storage                8\n",
       "16GB Flash Storage                 7\n",
       "32GB SSD                           6\n",
       "180GB SSD                          5\n",
       "128GB Flash Storage                4\n",
       "512GB SSD +  2TB HDD               3\n",
       "16GB SSD                           3\n",
       "512GB Flash Storage                2\n",
       "1TB SSD +  1TB HDD                 2\n",
       "256GB SSD +  500GB HDD             2\n",
       "128GB SSD +  2TB HDD               2\n",
       "256GB SSD +  256GB SSD             2\n",
       "512GB SSD +  256GB SSD             1\n",
       "512GB SSD +  512GB SSD             1\n",
       "64GB Flash Storage +  1TB HDD      1\n",
       "1TB HDD +  1TB HDD                 1\n",
       "32GB HDD                           1\n",
       "64GB SSD                           1\n",
       "128GB HDD                          1\n",
       "240GB SSD                          1\n",
       "8GB SSD                            1\n",
       "508GB Hybrid                       1\n",
       "1.0TB HDD                          1\n",
       "512GB SSD +  1.0TB Hybrid          1\n",
       "256GB SSD +  1.0TB Hybrid          1\n",
       "Name: Memory, dtype: int64"
      ]
     },
     "execution_count": 24,
     "metadata": {},
     "output_type": "execute_result"
    }
   ],
   "source": [
    "laptop_df.Memory.value_counts()"
   ]
  },
  {
   "cell_type": "code",
   "execution_count": 25,
   "id": "5083ba64",
   "metadata": {},
   "outputs": [],
   "source": [
    "laptop_df['Memory'] = laptop_df['Memory'].astype(str).replace('\\.0', '', regex = True)\n",
    "\n",
    "#Replacing GB to ''(null or empty)\n",
    "\n",
    "laptop_df['Memory'] = laptop_df['Memory'].str.replace('GB', '')\n",
    "\n",
    "#Replacing TB to 000 (1TB = 1000GB)\n",
    "\n",
    "laptop_df['Memory'] = laptop_df['Memory'].str.replace('TB', '000')"
   ]
  },
  {
   "cell_type": "code",
   "execution_count": 26,
   "id": "092fd04b",
   "metadata": {},
   "outputs": [],
   "source": [
    "dummy = laptop_df['Memory'].str.split('+', n=1,expand = True)"
   ]
  },
  {
   "cell_type": "code",
   "execution_count": 27,
   "id": "151eea23",
   "metadata": {
    "scrolled": true
   },
   "outputs": [
    {
     "data": {
      "text/plain": [
       "0                  1            \n",
       "128 SSD              1000 HDD       94\n",
       "256 SSD              1000 HDD       73\n",
       "512 SSD              1000 HDD       14\n",
       "256 SSD              2000 HDD       10\n",
       "512 SSD              2000 HDD        3\n",
       "1000 SSD             1000 HDD        2\n",
       "128 SSD              2000 HDD        2\n",
       "256 SSD              256 SSD         2\n",
       "                     500 HDD         2\n",
       "1000 HDD             1000 HDD        1\n",
       "256 SSD              1000 Hybrid     1\n",
       "512 SSD              1000 Hybrid     1\n",
       "                     256 SSD         1\n",
       "                     512 SSD         1\n",
       "64 Flash Storage     1000 HDD        1\n",
       "dtype: int64"
      ]
     },
     "execution_count": 27,
     "metadata": {},
     "output_type": "execute_result"
    }
   ],
   "source": [
    "dummy.value_counts()"
   ]
  },
  {
   "cell_type": "code",
   "execution_count": 28,
   "id": "dda53735",
   "metadata": {},
   "outputs": [
    {
     "data": {
      "text/html": [
       "<div>\n",
       "<style scoped>\n",
       "    .dataframe tbody tr th:only-of-type {\n",
       "        vertical-align: middle;\n",
       "    }\n",
       "\n",
       "    .dataframe tbody tr th {\n",
       "        vertical-align: top;\n",
       "    }\n",
       "\n",
       "    .dataframe thead th {\n",
       "        text-align: right;\n",
       "    }\n",
       "</style>\n",
       "<table border=\"1\" class=\"dataframe\">\n",
       "  <thead>\n",
       "    <tr style=\"text-align: right;\">\n",
       "      <th></th>\n",
       "      <th>Company</th>\n",
       "      <th>TypeName</th>\n",
       "      <th>Inches</th>\n",
       "      <th>Ram</th>\n",
       "      <th>Memory</th>\n",
       "      <th>OS</th>\n",
       "      <th>Weight</th>\n",
       "      <th>Price</th>\n",
       "      <th>Processor_Brand</th>\n",
       "      <th>Gpu_Brand</th>\n",
       "      <th>IPS</th>\n",
       "      <th>Touchscreen</th>\n",
       "      <th>zero</th>\n",
       "      <th>one</th>\n",
       "    </tr>\n",
       "  </thead>\n",
       "  <tbody>\n",
       "    <tr>\n",
       "      <th>0</th>\n",
       "      <td>Apple</td>\n",
       "      <td>Ultrabook</td>\n",
       "      <td>13.3</td>\n",
       "      <td>8</td>\n",
       "      <td>128 SSD</td>\n",
       "      <td>Mac OS</td>\n",
       "      <td>1.37</td>\n",
       "      <td>71378.6832</td>\n",
       "      <td>Intel Core i5</td>\n",
       "      <td>Intel</td>\n",
       "      <td>1</td>\n",
       "      <td>0</td>\n",
       "      <td>128 SSD</td>\n",
       "      <td>None</td>\n",
       "    </tr>\n",
       "    <tr>\n",
       "      <th>1</th>\n",
       "      <td>Apple</td>\n",
       "      <td>Ultrabook</td>\n",
       "      <td>13.3</td>\n",
       "      <td>8</td>\n",
       "      <td>128 Flash Storage</td>\n",
       "      <td>Mac OS</td>\n",
       "      <td>1.34</td>\n",
       "      <td>47895.5232</td>\n",
       "      <td>Intel Core i5</td>\n",
       "      <td>Intel</td>\n",
       "      <td>0</td>\n",
       "      <td>0</td>\n",
       "      <td>128 Flash Storage</td>\n",
       "      <td>None</td>\n",
       "    </tr>\n",
       "  </tbody>\n",
       "</table>\n",
       "</div>"
      ],
      "text/plain": [
       "  Company   TypeName  Inches  Ram             Memory      OS  Weight  \\\n",
       "0   Apple  Ultrabook    13.3    8            128 SSD  Mac OS    1.37   \n",
       "1   Apple  Ultrabook    13.3    8  128 Flash Storage  Mac OS    1.34   \n",
       "\n",
       "        Price Processor_Brand Gpu_Brand  IPS  Touchscreen               zero  \\\n",
       "0  71378.6832   Intel Core i5     Intel    1            0            128 SSD   \n",
       "1  47895.5232   Intel Core i5     Intel    0            0  128 Flash Storage   \n",
       "\n",
       "    one  \n",
       "0  None  \n",
       "1  None  "
      ]
     },
     "execution_count": 28,
     "metadata": {},
     "output_type": "execute_result"
    }
   ],
   "source": [
    "laptop_df['zero'] = dummy[0]\n",
    "laptop_df['one'] = dummy[1]\n",
    "laptop_df.head(2)"
   ]
  },
  {
   "cell_type": "code",
   "execution_count": 29,
   "id": "2423965c",
   "metadata": {},
   "outputs": [
    {
     "data": {
      "text/html": [
       "<div>\n",
       "<style scoped>\n",
       "    .dataframe tbody tr th:only-of-type {\n",
       "        vertical-align: middle;\n",
       "    }\n",
       "\n",
       "    .dataframe tbody tr th {\n",
       "        vertical-align: top;\n",
       "    }\n",
       "\n",
       "    .dataframe thead th {\n",
       "        text-align: right;\n",
       "    }\n",
       "</style>\n",
       "<table border=\"1\" class=\"dataframe\">\n",
       "  <thead>\n",
       "    <tr style=\"text-align: right;\">\n",
       "      <th></th>\n",
       "      <th>Company</th>\n",
       "      <th>TypeName</th>\n",
       "      <th>Inches</th>\n",
       "      <th>Ram</th>\n",
       "      <th>Memory</th>\n",
       "      <th>OS</th>\n",
       "      <th>Weight</th>\n",
       "      <th>Price</th>\n",
       "      <th>Processor_Brand</th>\n",
       "      <th>Gpu_Brand</th>\n",
       "      <th>IPS</th>\n",
       "      <th>Touchscreen</th>\n",
       "      <th>zero</th>\n",
       "      <th>one</th>\n",
       "      <th>H</th>\n",
       "      <th>S</th>\n",
       "    </tr>\n",
       "  </thead>\n",
       "  <tbody>\n",
       "    <tr>\n",
       "      <th>0</th>\n",
       "      <td>Apple</td>\n",
       "      <td>Ultrabook</td>\n",
       "      <td>13.3</td>\n",
       "      <td>8</td>\n",
       "      <td>128 SSD</td>\n",
       "      <td>Mac OS</td>\n",
       "      <td>1.37</td>\n",
       "      <td>71378.6832</td>\n",
       "      <td>Intel Core i5</td>\n",
       "      <td>Intel</td>\n",
       "      <td>1</td>\n",
       "      <td>0</td>\n",
       "      <td>128</td>\n",
       "      <td>None</td>\n",
       "      <td>0</td>\n",
       "      <td>1</td>\n",
       "    </tr>\n",
       "    <tr>\n",
       "      <th>1</th>\n",
       "      <td>Apple</td>\n",
       "      <td>Ultrabook</td>\n",
       "      <td>13.3</td>\n",
       "      <td>8</td>\n",
       "      <td>128 Flash Storage</td>\n",
       "      <td>Mac OS</td>\n",
       "      <td>1.34</td>\n",
       "      <td>47895.5232</td>\n",
       "      <td>Intel Core i5</td>\n",
       "      <td>Intel</td>\n",
       "      <td>0</td>\n",
       "      <td>0</td>\n",
       "      <td>128</td>\n",
       "      <td>None</td>\n",
       "      <td>0</td>\n",
       "      <td>0</td>\n",
       "    </tr>\n",
       "  </tbody>\n",
       "</table>\n",
       "</div>"
      ],
      "text/plain": [
       "  Company   TypeName  Inches  Ram             Memory      OS  Weight  \\\n",
       "0   Apple  Ultrabook    13.3    8            128 SSD  Mac OS    1.37   \n",
       "1   Apple  Ultrabook    13.3    8  128 Flash Storage  Mac OS    1.34   \n",
       "\n",
       "        Price Processor_Brand Gpu_Brand  IPS  Touchscreen zero   one  H  S  \n",
       "0  71378.6832   Intel Core i5     Intel    1            0  128  None  0  1  \n",
       "1  47895.5232   Intel Core i5     Intel    0            0  128  None  0  0  "
      ]
     },
     "execution_count": 29,
     "metadata": {},
     "output_type": "execute_result"
    }
   ],
   "source": [
    "### Layer 0\n",
    "\n",
    "laptop_df['H'] = laptop_df['zero'].apply(lambda x: 1 if 'HDD' in x else 0)\n",
    "laptop_df['S'] = laptop_df['zero'].apply(lambda x: 1 if 'SSD' in x else 0)\n",
    "laptop_df['zero'] = laptop_df['zero'].str.replace(r'\\D', '')\n",
    "laptop_df.head(2)"
   ]
  },
  {
   "cell_type": "code",
   "execution_count": 30,
   "id": "df559dc0",
   "metadata": {
    "scrolled": true
   },
   "outputs": [
    {
     "data": {
      "text/html": [
       "<div>\n",
       "<style scoped>\n",
       "    .dataframe tbody tr th:only-of-type {\n",
       "        vertical-align: middle;\n",
       "    }\n",
       "\n",
       "    .dataframe tbody tr th {\n",
       "        vertical-align: top;\n",
       "    }\n",
       "\n",
       "    .dataframe thead th {\n",
       "        text-align: right;\n",
       "    }\n",
       "</style>\n",
       "<table border=\"1\" class=\"dataframe\">\n",
       "  <thead>\n",
       "    <tr style=\"text-align: right;\">\n",
       "      <th></th>\n",
       "      <th>Company</th>\n",
       "      <th>TypeName</th>\n",
       "      <th>Inches</th>\n",
       "      <th>Ram</th>\n",
       "      <th>Memory</th>\n",
       "      <th>OS</th>\n",
       "      <th>Weight</th>\n",
       "      <th>Price</th>\n",
       "      <th>Processor_Brand</th>\n",
       "      <th>Gpu_Brand</th>\n",
       "      <th>IPS</th>\n",
       "      <th>Touchscreen</th>\n",
       "      <th>zero</th>\n",
       "      <th>one</th>\n",
       "      <th>H</th>\n",
       "      <th>S</th>\n",
       "      <th>H1</th>\n",
       "      <th>S1</th>\n",
       "    </tr>\n",
       "  </thead>\n",
       "  <tbody>\n",
       "    <tr>\n",
       "      <th>0</th>\n",
       "      <td>Apple</td>\n",
       "      <td>Ultrabook</td>\n",
       "      <td>13.3</td>\n",
       "      <td>8</td>\n",
       "      <td>128 SSD</td>\n",
       "      <td>Mac OS</td>\n",
       "      <td>1.37</td>\n",
       "      <td>71378.6832</td>\n",
       "      <td>Intel Core i5</td>\n",
       "      <td>Intel</td>\n",
       "      <td>1</td>\n",
       "      <td>0</td>\n",
       "      <td>128</td>\n",
       "      <td>0</td>\n",
       "      <td>0</td>\n",
       "      <td>1</td>\n",
       "      <td>0</td>\n",
       "      <td>0</td>\n",
       "    </tr>\n",
       "    <tr>\n",
       "      <th>1</th>\n",
       "      <td>Apple</td>\n",
       "      <td>Ultrabook</td>\n",
       "      <td>13.3</td>\n",
       "      <td>8</td>\n",
       "      <td>128 Flash Storage</td>\n",
       "      <td>Mac OS</td>\n",
       "      <td>1.34</td>\n",
       "      <td>47895.5232</td>\n",
       "      <td>Intel Core i5</td>\n",
       "      <td>Intel</td>\n",
       "      <td>0</td>\n",
       "      <td>0</td>\n",
       "      <td>128</td>\n",
       "      <td>0</td>\n",
       "      <td>0</td>\n",
       "      <td>0</td>\n",
       "      <td>0</td>\n",
       "      <td>0</td>\n",
       "    </tr>\n",
       "  </tbody>\n",
       "</table>\n",
       "</div>"
      ],
      "text/plain": [
       "  Company   TypeName  Inches  Ram             Memory      OS  Weight  \\\n",
       "0   Apple  Ultrabook    13.3    8            128 SSD  Mac OS    1.37   \n",
       "1   Apple  Ultrabook    13.3    8  128 Flash Storage  Mac OS    1.34   \n",
       "\n",
       "        Price Processor_Brand Gpu_Brand  IPS  Touchscreen zero one  H  S  H1  \\\n",
       "0  71378.6832   Intel Core i5     Intel    1            0  128   0  0  1   0   \n",
       "1  47895.5232   Intel Core i5     Intel    0            0  128   0  0  0   0   \n",
       "\n",
       "   S1  \n",
       "0   0  \n",
       "1   0  "
      ]
     },
     "execution_count": 30,
     "metadata": {},
     "output_type": "execute_result"
    }
   ],
   "source": [
    "### Layer 1\n",
    "\n",
    "laptop_df[\"one\"].fillna(\"0\", inplace = True)\n",
    "laptop_df[\"H1\"] = laptop_df[\"one\"].apply(lambda x: 1 if \"HDD\" in x else 0)\n",
    "laptop_df[\"S1\"] = laptop_df[\"one\"].apply(lambda x: 1 if \"SSD\" in x else 0)\n",
    "laptop_df['one'] = laptop_df['one'].str.replace(r'\\D', '')\n",
    "laptop_df.head(2)"
   ]
  },
  {
   "cell_type": "code",
   "execution_count": 31,
   "id": "7c8823ca",
   "metadata": {},
   "outputs": [],
   "source": [
    "laptop_df[\"zero\"] = laptop_df[\"zero\"].astype(int)\n",
    "laptop_df[\"one\"] = laptop_df[\"one\"].astype(int)"
   ]
  },
  {
   "cell_type": "code",
   "execution_count": 32,
   "id": "5605ca05",
   "metadata": {},
   "outputs": [],
   "source": [
    "laptop_df[\"HDD\"]=(laptop_df[\"zero\"]*laptop_df[\"H\"]+laptop_df[\"one\"]*laptop_df[\"H1\"])\n",
    "laptop_df[\"SSD\"]=(laptop_df[\"zero\"]*laptop_df[\"S\"]+laptop_df[\"one\"]*laptop_df[\"S1\"])"
   ]
  },
  {
   "cell_type": "code",
   "execution_count": 33,
   "id": "b6b64697",
   "metadata": {},
   "outputs": [
    {
     "data": {
      "text/html": [
       "<div>\n",
       "<style scoped>\n",
       "    .dataframe tbody tr th:only-of-type {\n",
       "        vertical-align: middle;\n",
       "    }\n",
       "\n",
       "    .dataframe tbody tr th {\n",
       "        vertical-align: top;\n",
       "    }\n",
       "\n",
       "    .dataframe thead th {\n",
       "        text-align: right;\n",
       "    }\n",
       "</style>\n",
       "<table border=\"1\" class=\"dataframe\">\n",
       "  <thead>\n",
       "    <tr style=\"text-align: right;\">\n",
       "      <th></th>\n",
       "      <th>Company</th>\n",
       "      <th>TypeName</th>\n",
       "      <th>Inches</th>\n",
       "      <th>Ram</th>\n",
       "      <th>OS</th>\n",
       "      <th>Weight</th>\n",
       "      <th>Price</th>\n",
       "      <th>Processor_Brand</th>\n",
       "      <th>Gpu_Brand</th>\n",
       "      <th>IPS</th>\n",
       "      <th>Touchscreen</th>\n",
       "      <th>HDD</th>\n",
       "      <th>SSD</th>\n",
       "    </tr>\n",
       "  </thead>\n",
       "  <tbody>\n",
       "    <tr>\n",
       "      <th>341</th>\n",
       "      <td>Lenovo</td>\n",
       "      <td>Notebook</td>\n",
       "      <td>15.6</td>\n",
       "      <td>12</td>\n",
       "      <td>Windows OS</td>\n",
       "      <td>2.20</td>\n",
       "      <td>47898.72</td>\n",
       "      <td>AMD Processor</td>\n",
       "      <td>AMD</td>\n",
       "      <td>0</td>\n",
       "      <td>0</td>\n",
       "      <td>2000</td>\n",
       "      <td>0</td>\n",
       "    </tr>\n",
       "    <tr>\n",
       "      <th>1257</th>\n",
       "      <td>Dell</td>\n",
       "      <td>Notebook</td>\n",
       "      <td>15.6</td>\n",
       "      <td>4</td>\n",
       "      <td>Windows OS</td>\n",
       "      <td>2.29</td>\n",
       "      <td>26107.20</td>\n",
       "      <td>Intel Core i3</td>\n",
       "      <td>Intel</td>\n",
       "      <td>0</td>\n",
       "      <td>0</td>\n",
       "      <td>500</td>\n",
       "      <td>0</td>\n",
       "    </tr>\n",
       "    <tr>\n",
       "      <th>701</th>\n",
       "      <td>Lenovo</td>\n",
       "      <td>Notebook</td>\n",
       "      <td>15.6</td>\n",
       "      <td>4</td>\n",
       "      <td>Windows OS</td>\n",
       "      <td>2.20</td>\n",
       "      <td>21258.72</td>\n",
       "      <td>AMD Processor</td>\n",
       "      <td>AMD</td>\n",
       "      <td>0</td>\n",
       "      <td>0</td>\n",
       "      <td>0</td>\n",
       "      <td>256</td>\n",
       "    </tr>\n",
       "    <tr>\n",
       "      <th>500</th>\n",
       "      <td>Asus</td>\n",
       "      <td>Netbook</td>\n",
       "      <td>11.6</td>\n",
       "      <td>4</td>\n",
       "      <td>Windows OS</td>\n",
       "      <td>1.20</td>\n",
       "      <td>18115.20</td>\n",
       "      <td>Other Intel Processor</td>\n",
       "      <td>Intel</td>\n",
       "      <td>0</td>\n",
       "      <td>0</td>\n",
       "      <td>0</td>\n",
       "      <td>0</td>\n",
       "    </tr>\n",
       "    <tr>\n",
       "      <th>300</th>\n",
       "      <td>Asus</td>\n",
       "      <td>Notebook</td>\n",
       "      <td>14.0</td>\n",
       "      <td>4</td>\n",
       "      <td>Windows OS</td>\n",
       "      <td>1.30</td>\n",
       "      <td>27119.52</td>\n",
       "      <td>Intel Core i3</td>\n",
       "      <td>Intel</td>\n",
       "      <td>0</td>\n",
       "      <td>0</td>\n",
       "      <td>0</td>\n",
       "      <td>128</td>\n",
       "    </tr>\n",
       "  </tbody>\n",
       "</table>\n",
       "</div>"
      ],
      "text/plain": [
       "     Company  TypeName  Inches  Ram          OS  Weight     Price  \\\n",
       "341   Lenovo  Notebook    15.6   12  Windows OS    2.20  47898.72   \n",
       "1257    Dell  Notebook    15.6    4  Windows OS    2.29  26107.20   \n",
       "701   Lenovo  Notebook    15.6    4  Windows OS    2.20  21258.72   \n",
       "500     Asus   Netbook    11.6    4  Windows OS    1.20  18115.20   \n",
       "300     Asus  Notebook    14.0    4  Windows OS    1.30  27119.52   \n",
       "\n",
       "            Processor_Brand Gpu_Brand  IPS  Touchscreen   HDD  SSD  \n",
       "341           AMD Processor       AMD    0            0  2000    0  \n",
       "1257          Intel Core i3     Intel    0            0   500    0  \n",
       "701           AMD Processor       AMD    0            0     0  256  \n",
       "500   Other Intel Processor     Intel    0            0     0    0  \n",
       "300           Intel Core i3     Intel    0            0     0  128  "
      ]
     },
     "execution_count": 33,
     "metadata": {},
     "output_type": "execute_result"
    }
   ],
   "source": [
    "### Dropping the unwanted columns \n",
    "\n",
    "laptop_df.drop(columns = ['zero','one','H',\"S\",'H1','S1'],inplace =True)\n",
    "laptop_df.drop(columns = [\"Memory\"],inplace = True)\n",
    "laptop_df.sample(5)"
   ]
  },
  {
   "cell_type": "markdown",
   "id": "d45596de",
   "metadata": {},
   "source": [
    "10. Reordering the Price Column for easier Modeling "
   ]
  },
  {
   "cell_type": "code",
   "execution_count": 34,
   "id": "4072884b",
   "metadata": {
    "scrolled": false
   },
   "outputs": [
    {
     "data": {
      "text/html": [
       "<div>\n",
       "<style scoped>\n",
       "    .dataframe tbody tr th:only-of-type {\n",
       "        vertical-align: middle;\n",
       "    }\n",
       "\n",
       "    .dataframe tbody tr th {\n",
       "        vertical-align: top;\n",
       "    }\n",
       "\n",
       "    .dataframe thead th {\n",
       "        text-align: right;\n",
       "    }\n",
       "</style>\n",
       "<table border=\"1\" class=\"dataframe\">\n",
       "  <thead>\n",
       "    <tr style=\"text-align: right;\">\n",
       "      <th></th>\n",
       "      <th>Company</th>\n",
       "      <th>TypeName</th>\n",
       "      <th>Inches</th>\n",
       "      <th>Ram</th>\n",
       "      <th>OS</th>\n",
       "      <th>Weight</th>\n",
       "      <th>Processor_Brand</th>\n",
       "      <th>Gpu_Brand</th>\n",
       "      <th>IPS</th>\n",
       "      <th>Touchscreen</th>\n",
       "      <th>HDD</th>\n",
       "      <th>SSD</th>\n",
       "      <th>Price</th>\n",
       "    </tr>\n",
       "  </thead>\n",
       "  <tbody>\n",
       "    <tr>\n",
       "      <th>0</th>\n",
       "      <td>Apple</td>\n",
       "      <td>Ultrabook</td>\n",
       "      <td>13.3</td>\n",
       "      <td>8</td>\n",
       "      <td>Mac OS</td>\n",
       "      <td>1.37</td>\n",
       "      <td>Intel Core i5</td>\n",
       "      <td>Intel</td>\n",
       "      <td>1</td>\n",
       "      <td>0</td>\n",
       "      <td>0</td>\n",
       "      <td>128</td>\n",
       "      <td>71378.6832</td>\n",
       "    </tr>\n",
       "    <tr>\n",
       "      <th>1</th>\n",
       "      <td>Apple</td>\n",
       "      <td>Ultrabook</td>\n",
       "      <td>13.3</td>\n",
       "      <td>8</td>\n",
       "      <td>Mac OS</td>\n",
       "      <td>1.34</td>\n",
       "      <td>Intel Core i5</td>\n",
       "      <td>Intel</td>\n",
       "      <td>0</td>\n",
       "      <td>0</td>\n",
       "      <td>0</td>\n",
       "      <td>0</td>\n",
       "      <td>47895.5232</td>\n",
       "    </tr>\n",
       "    <tr>\n",
       "      <th>2</th>\n",
       "      <td>HP</td>\n",
       "      <td>Notebook</td>\n",
       "      <td>15.6</td>\n",
       "      <td>8</td>\n",
       "      <td>No OS</td>\n",
       "      <td>1.86</td>\n",
       "      <td>Intel Core i5</td>\n",
       "      <td>Intel</td>\n",
       "      <td>0</td>\n",
       "      <td>0</td>\n",
       "      <td>0</td>\n",
       "      <td>256</td>\n",
       "      <td>30636.0000</td>\n",
       "    </tr>\n",
       "    <tr>\n",
       "      <th>3</th>\n",
       "      <td>Apple</td>\n",
       "      <td>Ultrabook</td>\n",
       "      <td>15.4</td>\n",
       "      <td>16</td>\n",
       "      <td>Mac OS</td>\n",
       "      <td>1.83</td>\n",
       "      <td>Intel Core i7</td>\n",
       "      <td>AMD</td>\n",
       "      <td>1</td>\n",
       "      <td>0</td>\n",
       "      <td>0</td>\n",
       "      <td>512</td>\n",
       "      <td>135195.3360</td>\n",
       "    </tr>\n",
       "    <tr>\n",
       "      <th>4</th>\n",
       "      <td>Apple</td>\n",
       "      <td>Ultrabook</td>\n",
       "      <td>13.3</td>\n",
       "      <td>8</td>\n",
       "      <td>Mac OS</td>\n",
       "      <td>1.37</td>\n",
       "      <td>Intel Core i5</td>\n",
       "      <td>Intel</td>\n",
       "      <td>1</td>\n",
       "      <td>0</td>\n",
       "      <td>0</td>\n",
       "      <td>256</td>\n",
       "      <td>96095.8080</td>\n",
       "    </tr>\n",
       "  </tbody>\n",
       "</table>\n",
       "</div>"
      ],
      "text/plain": [
       "  Company   TypeName  Inches  Ram      OS  Weight Processor_Brand Gpu_Brand  \\\n",
       "0   Apple  Ultrabook    13.3    8  Mac OS    1.37   Intel Core i5     Intel   \n",
       "1   Apple  Ultrabook    13.3    8  Mac OS    1.34   Intel Core i5     Intel   \n",
       "2      HP   Notebook    15.6    8   No OS    1.86   Intel Core i5     Intel   \n",
       "3   Apple  Ultrabook    15.4   16  Mac OS    1.83   Intel Core i7       AMD   \n",
       "4   Apple  Ultrabook    13.3    8  Mac OS    1.37   Intel Core i5     Intel   \n",
       "\n",
       "   IPS  Touchscreen  HDD  SSD        Price  \n",
       "0    1            0    0  128   71378.6832  \n",
       "1    0            0    0    0   47895.5232  \n",
       "2    0            0    0  256   30636.0000  \n",
       "3    1            0    0  512  135195.3360  \n",
       "4    1            0    0  256   96095.8080  "
      ]
     },
     "execution_count": 34,
     "metadata": {},
     "output_type": "execute_result"
    }
   ],
   "source": [
    "laptop_df['dum_Price'] = laptop_df['Price']\n",
    "laptop_df.drop(columns = [ 'Price'],inplace = True)\n",
    "laptop_df.rename(columns = {'dum_Price':\"Price\"},inplace = True)\n",
    "laptop_df.head(5)"
   ]
  },
  {
   "cell_type": "code",
   "execution_count": 35,
   "id": "d554fabb",
   "metadata": {},
   "outputs": [
    {
     "name": "stdout",
     "output_type": "stream",
     "text": [
      "<class 'pandas.core.frame.DataFrame'>\n",
      "RangeIndex: 1303 entries, 0 to 1302\n",
      "Data columns (total 13 columns):\n",
      " #   Column           Non-Null Count  Dtype  \n",
      "---  ------           --------------  -----  \n",
      " 0   Company          1303 non-null   object \n",
      " 1   TypeName         1303 non-null   object \n",
      " 2   Inches           1303 non-null   float64\n",
      " 3   Ram              1303 non-null   int64  \n",
      " 4   OS               1303 non-null   object \n",
      " 5   Weight           1303 non-null   float64\n",
      " 6   Processor_Brand  1303 non-null   object \n",
      " 7   Gpu_Brand        1303 non-null   object \n",
      " 8   IPS              1303 non-null   int64  \n",
      " 9   Touchscreen      1303 non-null   int64  \n",
      " 10  HDD              1303 non-null   int64  \n",
      " 11  SSD              1303 non-null   int64  \n",
      " 12  Price            1303 non-null   float64\n",
      "dtypes: float64(3), int64(5), object(5)\n",
      "memory usage: 132.5+ KB\n"
     ]
    }
   ],
   "source": [
    "laptop_df.info()"
   ]
  },
  {
   "cell_type": "raw",
   "id": "a73b20ed",
   "metadata": {},
   "source": []
  },
  {
   "cell_type": "markdown",
   "id": "455ad256",
   "metadata": {},
   "source": [
    "# Step 4 :- Univariate Analysis\n",
    "---"
   ]
  },
  {
   "cell_type": "markdown",
   "id": "7069bca2",
   "metadata": {},
   "source": [
    "1. Checking the Skewness of Price"
   ]
  },
  {
   "cell_type": "code",
   "execution_count": 36,
   "id": "ce2592d1",
   "metadata": {
    "scrolled": false
   },
   "outputs": [
    {
     "data": {
      "text/plain": [
       "<AxesSubplot:xlabel='Price', ylabel='Density'>"
      ]
     },
     "execution_count": 36,
     "metadata": {},
     "output_type": "execute_result"
    },
    {
     "data": {
      "image/png": "[encoded data removed]",
      "text/plain": [
       "<Figure size 640x480 with 1 Axes>"
      ]
     },
     "metadata": {},
     "output_type": "display_data"
    }
   ],
   "source": [
    "sns.distplot(laptop_df['Price'])"
   ]
  },
  {
   "cell_type": "markdown",
   "id": "26156ee6",
   "metadata": {},
   "source": [
    "* The Price is Positively Skewed"
   ]
  },
  {
   "cell_type": "markdown",
   "id": "6c9b7eee",
   "metadata": {},
   "source": [
    "2. Impact of Comapny On Price"
   ]
  },
  {
   "cell_type": "code",
   "execution_count": 37,
   "id": "0067edd5",
   "metadata": {},
   "outputs": [
    {
     "data": {
      "image/png": "[encoded data removed]",
      "text/plain": [
       "<Figure size 640x480 with 1 Axes>"
      ]
     },
     "metadata": {},
     "output_type": "display_data"
    }
   ],
   "source": [
    "sns.barplot ( x = laptop_df['Company'] ,y=laptop_df['Price'])\n",
    "plt.xticks(rotation = 'vertical')\n",
    "plt.title('Company vs Price')\n",
    "plt.show()"
   ]
  },
  {
   "cell_type": "markdown",
   "id": "223e858a",
   "metadata": {},
   "source": [
    "* The Razer company has Highest Priced laptop"
   ]
  },
  {
   "cell_type": "markdown",
   "id": "8906ca81",
   "metadata": {},
   "source": [
    "3. Impact of Type of Laptop on Price"
   ]
  },
  {
   "cell_type": "code",
   "execution_count": 38,
   "id": "8fd84cee",
   "metadata": {
    "scrolled": true
   },
   "outputs": [
    {
     "data": {
      "image/png": "[encoded data removed]",
      "text/plain": [
       "<Figure size 640x480 with 1 Axes>"
      ]
     },
     "metadata": {},
     "output_type": "display_data"
    }
   ],
   "source": [
    "sns.barplot ( x = laptop_df['TypeName'] ,y=laptop_df['Price'])\n",
    "plt.xticks(rotation = 'vertical')\n",
    "plt.title('Laptop Type vs Price')\n",
    "plt.show()"
   ]
  },
  {
   "cell_type": "markdown",
   "id": "e12bbf8b",
   "metadata": {},
   "source": [
    "4. Impact of Ram on Price"
   ]
  },
  {
   "cell_type": "code",
   "execution_count": 39,
   "id": "5168cc06",
   "metadata": {},
   "outputs": [
    {
     "data": {
      "image/png": "[encoded data removed]",
      "text/plain": [
       "<Figure size 640x480 with 1 Axes>"
      ]
     },
     "metadata": {},
     "output_type": "display_data"
    }
   ],
   "source": [
    "sns.barplot ( x = laptop_df['Ram'] ,y=laptop_df['Price'])\n",
    "plt.xticks(rotation = 'vertical')\n",
    "plt.title('Ram vs Price')\n",
    "plt.show()"
   ]
  },
  {
   "cell_type": "markdown",
   "id": "5af1a76f",
   "metadata": {},
   "source": [
    "* As the Ram Increases the Price Increases"
   ]
  },
  {
   "cell_type": "markdown",
   "id": "687ef46c",
   "metadata": {},
   "source": [
    "5. Impact of OS on Price"
   ]
  },
  {
   "cell_type": "code",
   "execution_count": 40,
   "id": "ffe2b38f",
   "metadata": {},
   "outputs": [
    {
     "data": {
      "image/png": "[encoded data removed]",
      "text/plain": [
       "<Figure size 640x480 with 1 Axes>"
      ]
     },
     "metadata": {},
     "output_type": "display_data"
    }
   ],
   "source": [
    "sns.barplot ( x = laptop_df['OS'] ,y=laptop_df['Price'])\n",
    "plt.xticks(rotation = 'vertical')\n",
    "plt.title('OS vs Price')\n",
    "plt.show()"
   ]
  },
  {
   "cell_type": "markdown",
   "id": "d634efc3",
   "metadata": {},
   "source": [
    "* The laptop with MAC OS has the Highest Price Range"
   ]
  },
  {
   "cell_type": "markdown",
   "id": "d2e97739",
   "metadata": {},
   "source": [
    "6. Impact of Inches on Price"
   ]
  },
  {
   "cell_type": "code",
   "execution_count": 41,
   "id": "3fd5986b",
   "metadata": {},
   "outputs": [
    {
     "data": {
      "text/plain": [
       "<AxesSubplot:xlabel='Inches', ylabel='Price'>"
      ]
     },
     "execution_count": 41,
     "metadata": {},
     "output_type": "execute_result"
    },
    {
     "data": {
      "image/png": "[encoded data removed]",
      "text/plain": [
       "<Figure size 640x480 with 1 Axes>"
      ]
     },
     "metadata": {},
     "output_type": "display_data"
    }
   ],
   "source": [
    "sns.scatterplot(x = laptop_df['Inches'], y = laptop_df['Price'])"
   ]
  },
  {
   "cell_type": "markdown",
   "id": "734f3926",
   "metadata": {},
   "source": [
    "* As the inches Increase the Price Increases "
   ]
  },
  {
   "cell_type": "markdown",
   "id": "9e6097f0",
   "metadata": {},
   "source": [
    "7. Impact of Weight on Price"
   ]
  },
  {
   "cell_type": "code",
   "execution_count": 42,
   "id": "30f63c45",
   "metadata": {},
   "outputs": [
    {
     "data": {
      "text/plain": [
       "<AxesSubplot:xlabel='Weight', ylabel='Price'>"
      ]
     },
     "execution_count": 42,
     "metadata": {},
     "output_type": "execute_result"
    },
    {
     "data": {
      "image/png": "[encoded data removed]",
      "text/plain": [
       "<Figure size 640x480 with 1 Axes>"
      ]
     },
     "metadata": {},
     "output_type": "display_data"
    }
   ],
   "source": [
    "sns.scatterplot(x = laptop_df['Weight'], y = laptop_df['Price'])"
   ]
  },
  {
   "cell_type": "markdown",
   "id": "98e5630d",
   "metadata": {},
   "source": [
    "* With an Increase in Weight the Price Increases"
   ]
  },
  {
   "cell_type": "markdown",
   "id": "0fb1405b",
   "metadata": {},
   "source": [
    "8. Imapct of Processor Brand on Price"
   ]
  },
  {
   "cell_type": "code",
   "execution_count": 43,
   "id": "e939daee",
   "metadata": {},
   "outputs": [
    {
     "data": {
      "image/png": "[encoded data removed]",
      "text/plain": [
       "<Figure size 640x480 with 1 Axes>"
      ]
     },
     "metadata": {},
     "output_type": "display_data"
    }
   ],
   "source": [
    "sns.barplot ( x = laptop_df['Processor_Brand'] ,y=laptop_df['Price'])\n",
    "plt.xticks(rotation = 'vertical')\n",
    "plt.title('Processor_Brand vs Price')\n",
    "plt.show()"
   ]
  },
  {
   "cell_type": "markdown",
   "id": "796944d4",
   "metadata": {},
   "source": [
    "* Intel i5 and i7 has the highest prices"
   ]
  },
  {
   "cell_type": "markdown",
   "id": "52daf552",
   "metadata": {},
   "source": [
    "9. Impact of GPU Brand on Price "
   ]
  },
  {
   "cell_type": "code",
   "execution_count": 44,
   "id": "9e3596da",
   "metadata": {},
   "outputs": [
    {
     "data": {
      "image/png": "[encoded data removed]",
      "text/plain": [
       "<Figure size 640x480 with 1 Axes>"
      ]
     },
     "metadata": {},
     "output_type": "display_data"
    }
   ],
   "source": [
    "sns.barplot ( x = laptop_df['Gpu_Brand'] ,y=laptop_df['Price'])\n",
    "plt.xticks(rotation = 'vertical')\n",
    "plt.title('Gpu_Brand vs Price')\n",
    "plt.show()"
   ]
  },
  {
   "cell_type": "markdown",
   "id": "165fad46",
   "metadata": {},
   "source": [
    "* The GPU_Brand named Nividia has the Highest Price"
   ]
  },
  {
   "cell_type": "markdown",
   "id": "fd383ec8",
   "metadata": {},
   "source": [
    "10. Impact of IPS and Touchscreen on Price"
   ]
  },
  {
   "cell_type": "code",
   "execution_count": 45,
   "id": "ad62c814",
   "metadata": {
    "scrolled": false
   },
   "outputs": [
    {
     "data": {
      "image/png": "[encoded data removed]",
      "text/plain": [
       "<Figure size 640x480 with 1 Axes>"
      ]
     },
     "metadata": {},
     "output_type": "display_data"
    }
   ],
   "source": [
    "sns.barplot( x = laptop_df['IPS'] ,y=laptop_df['Price'])\n",
    "plt.xticks(rotation = 'vertical')\n",
    "plt.title('IPS vs Price')\n",
    "plt.show()"
   ]
  },
  {
   "cell_type": "markdown",
   "id": "8422c7a0",
   "metadata": {},
   "source": [
    "* The Lapotps with IPS displays have a higher Price"
   ]
  },
  {
   "cell_type": "code",
   "execution_count": 46,
   "id": "baf4e0e2",
   "metadata": {},
   "outputs": [
    {
     "data": {
      "image/png": "[encoded data removed]",
      "text/plain": [
       "<Figure size 640x480 with 1 Axes>"
      ]
     },
     "metadata": {},
     "output_type": "display_data"
    }
   ],
   "source": [
    "sns.barplot ( x = laptop_df['Touchscreen'] ,y=laptop_df['Price'])\n",
    "plt.xticks(rotation = 'vertical')\n",
    "plt.title('Touchscreen vs Price')\n",
    "plt.show()"
   ]
  },
  {
   "cell_type": "markdown",
   "id": "be980bee",
   "metadata": {},
   "source": [
    "* The Laptops with Touchscreen displays have higher Price"
   ]
  },
  {
   "cell_type": "markdown",
   "id": "55bec4bc",
   "metadata": {},
   "source": [
    "11. Lets Log the Price column to Normalise it "
   ]
  },
  {
   "cell_type": "code",
   "execution_count": 47,
   "id": "dcafa365",
   "metadata": {},
   "outputs": [
    {
     "data": {
      "text/plain": [
       "<AxesSubplot:xlabel='Price', ylabel='Density'>"
      ]
     },
     "execution_count": 47,
     "metadata": {},
     "output_type": "execute_result"
    },
    {
     "data": {
      "image/png": "[encoded data removed]",
      "text/plain": [
       "<Figure size 640x480 with 1 Axes>"
      ]
     },
     "metadata": {},
     "output_type": "display_data"
    }
   ],
   "source": [
    "sns.distplot(np.log(laptop_df['Price']))"
   ]
  },
  {
   "cell_type": "code",
   "execution_count": 48,
   "id": "594f00fe",
   "metadata": {},
   "outputs": [
    {
     "name": "stdout",
     "output_type": "stream",
     "text": [
      "<class 'pandas.core.frame.DataFrame'>\n",
      "RangeIndex: 1303 entries, 0 to 1302\n",
      "Data columns (total 13 columns):\n",
      " #   Column           Non-Null Count  Dtype  \n",
      "---  ------           --------------  -----  \n",
      " 0   Company          1303 non-null   object \n",
      " 1   TypeName         1303 non-null   object \n",
      " 2   Inches           1303 non-null   float64\n",
      " 3   Ram              1303 non-null   int64  \n",
      " 4   OS               1303 non-null   object \n",
      " 5   Weight           1303 non-null   float64\n",
      " 6   Processor_Brand  1303 non-null   object \n",
      " 7   Gpu_Brand        1303 non-null   object \n",
      " 8   IPS              1303 non-null   int64  \n",
      " 9   Touchscreen      1303 non-null   int64  \n",
      " 10  HDD              1303 non-null   int64  \n",
      " 11  SSD              1303 non-null   int64  \n",
      " 12  Price            1303 non-null   float64\n",
      "dtypes: float64(3), int64(5), object(5)\n",
      "memory usage: 132.5+ KB\n"
     ]
    }
   ],
   "source": [
    "laptop_df.info()"
   ]
  },
  {
   "cell_type": "code",
   "execution_count": 49,
   "id": "8ef38cbe",
   "metadata": {},
   "outputs": [
    {
     "data": {
      "text/plain": [
       "Inches         0.068197\n",
       "Ram            0.743007\n",
       "Weight         0.210370\n",
       "IPS            0.252208\n",
       "Touchscreen    0.191226\n",
       "HDD           -0.096441\n",
       "SSD            0.670799\n",
       "Price          1.000000\n",
       "Name: Price, dtype: float64"
      ]
     },
     "execution_count": 49,
     "metadata": {},
     "output_type": "execute_result"
    }
   ],
   "source": [
    "laptop_df.corr()['Price']"
   ]
  },
  {
   "cell_type": "code",
   "execution_count": 50,
   "id": "7377a3d3",
   "metadata": {},
   "outputs": [
    {
     "name": "stdout",
     "output_type": "stream",
     "text": [
      "<class 'pandas.core.frame.DataFrame'>\n",
      "RangeIndex: 1303 entries, 0 to 1302\n",
      "Data columns (total 13 columns):\n",
      " #   Column           Non-Null Count  Dtype  \n",
      "---  ------           --------------  -----  \n",
      " 0   Company          1303 non-null   object \n",
      " 1   TypeName         1303 non-null   object \n",
      " 2   Inches           1303 non-null   float64\n",
      " 3   Ram              1303 non-null   int64  \n",
      " 4   OS               1303 non-null   object \n",
      " 5   Weight           1303 non-null   float64\n",
      " 6   Processor_Brand  1303 non-null   object \n",
      " 7   Gpu_Brand        1303 non-null   object \n",
      " 8   IPS              1303 non-null   int64  \n",
      " 9   Touchscreen      1303 non-null   int64  \n",
      " 10  HDD              1303 non-null   int64  \n",
      " 11  SSD              1303 non-null   int64  \n",
      " 12  Price            1303 non-null   float64\n",
      "dtypes: float64(3), int64(5), object(5)\n",
      "memory usage: 132.5+ KB\n"
     ]
    }
   ],
   "source": [
    "laptop_df.info()"
   ]
  },
  {
   "cell_type": "code",
   "execution_count": 51,
   "id": "8a605f7c",
   "metadata": {},
   "outputs": [
    {
     "data": {
      "text/plain": [
       "array(['Intel Core i5', 'Intel Core i7', 'AMD Processor', 'Intel Core i3',\n",
       "       'Other Intel Processor'], dtype=object)"
      ]
     },
     "execution_count": 51,
     "metadata": {},
     "output_type": "execute_result"
    }
   ],
   "source": [
    "laptop_df.Processor_Brand.unique()"
   ]
  },
  {
   "cell_type": "markdown",
   "id": "d42d647b",
   "metadata": {},
   "source": [
    "### Step 5 :- Model Buidling \n",
    "---"
   ]
  },
  {
   "cell_type": "markdown",
   "id": "3b4c25e1",
   "metadata": {},
   "source": [
    "Lets create a checkpoint of the data to prevent from any loss"
   ]
  },
  {
   "cell_type": "code",
   "execution_count": 52,
   "id": "ea2d6b34",
   "metadata": {
    "scrolled": true
   },
   "outputs": [
    {
     "data": {
      "text/html": [
       "<div>\n",
       "<style scoped>\n",
       "    .dataframe tbody tr th:only-of-type {\n",
       "        vertical-align: middle;\n",
       "    }\n",
       "\n",
       "    .dataframe tbody tr th {\n",
       "        vertical-align: top;\n",
       "    }\n",
       "\n",
       "    .dataframe thead th {\n",
       "        text-align: right;\n",
       "    }\n",
       "</style>\n",
       "<table border=\"1\" class=\"dataframe\">\n",
       "  <thead>\n",
       "    <tr style=\"text-align: right;\">\n",
       "      <th></th>\n",
       "      <th>Company</th>\n",
       "      <th>TypeName</th>\n",
       "      <th>Inches</th>\n",
       "      <th>Ram</th>\n",
       "      <th>OS</th>\n",
       "      <th>Weight</th>\n",
       "      <th>Processor_Brand</th>\n",
       "      <th>Gpu_Brand</th>\n",
       "      <th>IPS</th>\n",
       "      <th>Touchscreen</th>\n",
       "      <th>HDD</th>\n",
       "      <th>SSD</th>\n",
       "      <th>Price</th>\n",
       "    </tr>\n",
       "  </thead>\n",
       "  <tbody>\n",
       "    <tr>\n",
       "      <th>0</th>\n",
       "      <td>Apple</td>\n",
       "      <td>Ultrabook</td>\n",
       "      <td>13.3</td>\n",
       "      <td>8</td>\n",
       "      <td>Mac OS</td>\n",
       "      <td>1.37</td>\n",
       "      <td>Intel Core i5</td>\n",
       "      <td>Intel</td>\n",
       "      <td>1</td>\n",
       "      <td>0</td>\n",
       "      <td>0</td>\n",
       "      <td>128</td>\n",
       "      <td>71378.6832</td>\n",
       "    </tr>\n",
       "    <tr>\n",
       "      <th>1</th>\n",
       "      <td>Apple</td>\n",
       "      <td>Ultrabook</td>\n",
       "      <td>13.3</td>\n",
       "      <td>8</td>\n",
       "      <td>Mac OS</td>\n",
       "      <td>1.34</td>\n",
       "      <td>Intel Core i5</td>\n",
       "      <td>Intel</td>\n",
       "      <td>0</td>\n",
       "      <td>0</td>\n",
       "      <td>0</td>\n",
       "      <td>0</td>\n",
       "      <td>47895.5232</td>\n",
       "    </tr>\n",
       "    <tr>\n",
       "      <th>2</th>\n",
       "      <td>HP</td>\n",
       "      <td>Notebook</td>\n",
       "      <td>15.6</td>\n",
       "      <td>8</td>\n",
       "      <td>No OS</td>\n",
       "      <td>1.86</td>\n",
       "      <td>Intel Core i5</td>\n",
       "      <td>Intel</td>\n",
       "      <td>0</td>\n",
       "      <td>0</td>\n",
       "      <td>0</td>\n",
       "      <td>256</td>\n",
       "      <td>30636.0000</td>\n",
       "    </tr>\n",
       "    <tr>\n",
       "      <th>3</th>\n",
       "      <td>Apple</td>\n",
       "      <td>Ultrabook</td>\n",
       "      <td>15.4</td>\n",
       "      <td>16</td>\n",
       "      <td>Mac OS</td>\n",
       "      <td>1.83</td>\n",
       "      <td>Intel Core i7</td>\n",
       "      <td>AMD</td>\n",
       "      <td>1</td>\n",
       "      <td>0</td>\n",
       "      <td>0</td>\n",
       "      <td>512</td>\n",
       "      <td>135195.3360</td>\n",
       "    </tr>\n",
       "    <tr>\n",
       "      <th>4</th>\n",
       "      <td>Apple</td>\n",
       "      <td>Ultrabook</td>\n",
       "      <td>13.3</td>\n",
       "      <td>8</td>\n",
       "      <td>Mac OS</td>\n",
       "      <td>1.37</td>\n",
       "      <td>Intel Core i5</td>\n",
       "      <td>Intel</td>\n",
       "      <td>1</td>\n",
       "      <td>0</td>\n",
       "      <td>0</td>\n",
       "      <td>256</td>\n",
       "      <td>96095.8080</td>\n",
       "    </tr>\n",
       "  </tbody>\n",
       "</table>\n",
       "</div>"
      ],
      "text/plain": [
       "  Company   TypeName  Inches  Ram      OS  Weight Processor_Brand Gpu_Brand  \\\n",
       "0   Apple  Ultrabook    13.3    8  Mac OS    1.37   Intel Core i5     Intel   \n",
       "1   Apple  Ultrabook    13.3    8  Mac OS    1.34   Intel Core i5     Intel   \n",
       "2      HP   Notebook    15.6    8   No OS    1.86   Intel Core i5     Intel   \n",
       "3   Apple  Ultrabook    15.4   16  Mac OS    1.83   Intel Core i7       AMD   \n",
       "4   Apple  Ultrabook    13.3    8  Mac OS    1.37   Intel Core i5     Intel   \n",
       "\n",
       "   IPS  Touchscreen  HDD  SSD        Price  \n",
       "0    1            0    0  128   71378.6832  \n",
       "1    0            0    0    0   47895.5232  \n",
       "2    0            0    0  256   30636.0000  \n",
       "3    1            0    0  512  135195.3360  \n",
       "4    1            0    0  256   96095.8080  "
      ]
     },
     "execution_count": 52,
     "metadata": {},
     "output_type": "execute_result"
    }
   ],
   "source": [
    "df_model = laptop_df\n",
    "df_model.head()"
   ]
  },
  {
   "cell_type": "code",
   "execution_count": 53,
   "id": "d2e801cd",
   "metadata": {},
   "outputs": [],
   "source": [
    "df_model = pd.DataFrame(df_model)"
   ]
  },
  {
   "cell_type": "markdown",
   "id": "217ab178",
   "metadata": {},
   "source": [
    "Step 1 :- Importing required packages"
   ]
  },
  {
   "cell_type": "code",
   "execution_count": 54,
   "id": "d9623904",
   "metadata": {},
   "outputs": [],
   "source": [
    "from sklearn.model_selection import train_test_split\n",
    "\n",
    "from sklearn.compose import ColumnTransformer\n",
    "\n",
    "from sklearn.pipeline import Pipeline\n",
    "\n",
    "from sklearn.preprocessing import OneHotEncoder\n",
    "\n",
    "from sklearn.metrics import r2_score,mean_absolute_error\n",
    "\n",
    "from sklearn.ensemble import RandomForestRegressor"
   ]
  },
  {
   "cell_type": "markdown",
   "id": "7e6ddd32",
   "metadata": {},
   "source": [
    "Step 2 :- Declaring the x and y variables"
   ]
  },
  {
   "cell_type": "code",
   "execution_count": 55,
   "id": "52032201",
   "metadata": {},
   "outputs": [],
   "source": [
    "x = df_model.drop(columns=['Price'])\n",
    "y = np.log(df_model['Price'])"
   ]
  },
  {
   "cell_type": "markdown",
   "id": "7f69b203",
   "metadata": {},
   "source": [
    "Step 3 :- Spliting the Data into train and test"
   ]
  },
  {
   "cell_type": "code",
   "execution_count": 56,
   "id": "2d54cc76",
   "metadata": {},
   "outputs": [
    {
     "data": {
      "text/plain": [
       "(1042, 261, 1042, 261)"
      ]
     },
     "execution_count": 56,
     "metadata": {},
     "output_type": "execute_result"
    }
   ],
   "source": [
    "x_train,x_test,y_train,y_test = train_test_split(x,y,random_state=4321, test_size= 0.2)\n",
    "len(x_train),len(x_test),len(y_train),len(y_test)"
   ]
  },
  {
   "cell_type": "markdown",
   "id": "7a3c289f",
   "metadata": {},
   "source": [
    "Step 4 :- Fitting the Data into Different Models using PipeLine"
   ]
  },
  {
   "cell_type": "markdown",
   "id": "16e97e5e",
   "metadata": {},
   "source": [
    "1) Linear Regression "
   ]
  },
  {
   "cell_type": "code",
   "execution_count": 57,
   "id": "d58bf82e",
   "metadata": {},
   "outputs": [
    {
     "name": "stdout",
     "output_type": "stream",
     "text": [
      "<class 'pandas.core.frame.DataFrame'>\n",
      "RangeIndex: 1303 entries, 0 to 1302\n",
      "Data columns (total 12 columns):\n",
      " #   Column           Non-Null Count  Dtype  \n",
      "---  ------           --------------  -----  \n",
      " 0   Company          1303 non-null   object \n",
      " 1   TypeName         1303 non-null   object \n",
      " 2   Inches           1303 non-null   float64\n",
      " 3   Ram              1303 non-null   int64  \n",
      " 4   OS               1303 non-null   object \n",
      " 5   Weight           1303 non-null   float64\n",
      " 6   Processor_Brand  1303 non-null   object \n",
      " 7   Gpu_Brand        1303 non-null   object \n",
      " 8   IPS              1303 non-null   int64  \n",
      " 9   Touchscreen      1303 non-null   int64  \n",
      " 10  HDD              1303 non-null   int64  \n",
      " 11  SSD              1303 non-null   int64  \n",
      "dtypes: float64(2), int64(5), object(5)\n",
      "memory usage: 122.3+ KB\n"
     ]
    }
   ],
   "source": [
    "x.info()"
   ]
  },
  {
   "cell_type": "code",
   "execution_count": 58,
   "id": "830503ab",
   "metadata": {},
   "outputs": [
    {
     "name": "stdout",
     "output_type": "stream",
     "text": [
      "R2 score 0.670333355670597\n",
      "MAE 0.2671884358377858\n"
     ]
    }
   ],
   "source": [
    "### Checking the Accuracy with the Regression model\n",
    "\n",
    "from sklearn.linear_model import LinearRegression\n",
    "\n",
    "step1 = ColumnTransformer(transformers=[\n",
    "    ('col_tnf',OneHotEncoder(sparse=False,drop='first'),[0,1,4,6,7])\n",
    "])\n",
    "\n",
    "step2 = LinearRegression()\n",
    "\n",
    "pipe = Pipeline([\n",
    "    ('step1',step1),\n",
    "    ('step2',step2)\n",
    "])\n",
    "\n",
    "pipe.fit(x_train,y_train)\n",
    "\n",
    "y_pred = pipe.predict(x_test)\n",
    "\n",
    "print('R2 score',r2_score(y_test,y_pred))\n",
    "print('MAE',mean_absolute_error(y_test,y_pred))"
   ]
  },
  {
   "cell_type": "markdown",
   "id": "4b31d4ef",
   "metadata": {},
   "source": [
    "2) KNN"
   ]
  },
  {
   "cell_type": "code",
   "execution_count": 59,
   "id": "630ae610",
   "metadata": {},
   "outputs": [
    {
     "name": "stdout",
     "output_type": "stream",
     "text": [
      "R2 score 0.730283021474551\n",
      "MAE 0.2493058362260975\n"
     ]
    }
   ],
   "source": [
    "from sklearn.neighbors import KNeighborsRegressor\n",
    "\n",
    "step1 = ColumnTransformer(transformers=[\n",
    "    ('col_t',OneHotEncoder(sparse = False),[0,1,4,6,7])\n",
    "])\n",
    "\n",
    "\n",
    "step2 = KNeighborsRegressor(n_neighbors=3)\n",
    "\n",
    "pipe2 = Pipeline([\n",
    "    ('step1',step1),\n",
    "    ('step2',step2)\n",
    "])\n",
    "\n",
    "pipe2.fit(x_train,y_train)\n",
    "\n",
    "y_pred = pipe2.predict(x_test)\n",
    "\n",
    "print('R2 score',r2_score(y_test,y_pred))\n",
    "print('MAE',mean_absolute_error(y_test,y_pred))"
   ]
  },
  {
   "cell_type": "markdown",
   "id": "e64288e0",
   "metadata": {},
   "source": [
    "3) Deision Tree"
   ]
  },
  {
   "cell_type": "code",
   "execution_count": 60,
   "id": "a45b7df0",
   "metadata": {},
   "outputs": [
    {
     "name": "stdout",
     "output_type": "stream",
     "text": [
      "R2 score 0.7522847467156364\n",
      "MAE 0.23838043385540883\n"
     ]
    }
   ],
   "source": [
    "from sklearn.tree import DecisionTreeRegressor\n",
    "\n",
    "step1 = ColumnTransformer(transformers=[\n",
    "    ('col_t',OneHotEncoder(sparse = False),[0,1,4,6,7])\n",
    "])\n",
    "\n",
    "\n",
    "step2 = DecisionTreeRegressor(max_depth=8)\n",
    "\n",
    "pipe3 = Pipeline([\n",
    "    ('step1',step1),\n",
    "    ('step2',step2)\n",
    "])\n",
    "\n",
    "pipe3.fit(x_train,y_train)\n",
    "\n",
    "y_pred = pipe3.predict(x_test)\n",
    "\n",
    "print('R2 score',r2_score(y_test,y_pred))\n",
    "print('MAE',mean_absolute_error(y_test,y_pred))"
   ]
  },
  {
   "cell_type": "markdown",
   "id": "c1858768",
   "metadata": {},
   "source": [
    "4) Random Forest"
   ]
  },
  {
   "cell_type": "code",
   "execution_count": 61,
   "id": "2761678d",
   "metadata": {},
   "outputs": [
    {
     "name": "stdout",
     "output_type": "stream",
     "text": [
      "R2 score 0.8207787693865873\n",
      "MAE 0.20020420359667834\n"
     ]
    }
   ],
   "source": [
    "from sklearn.ensemble import RandomForestRegressor\n",
    "\n",
    "step1 = ColumnTransformer(transformers=[\n",
    "        ('col_tnf',OneHotEncoder\n",
    "         (handle_unknown = 'ignore',sparse=False),[0,1,4,6,7])\n",
    "])\n",
    "\n",
    "step2 = RandomForestRegressor(n_estimators=1000,\n",
    "                              random_state=3,\n",
    "                              max_samples=0.8,\n",
    "                              max_features=0.75,\n",
    "                              max_depth=20)\n",
    "\n",
    "pipe4 = Pipeline([\n",
    "    ('step1',step1),\n",
    "    ('step2',step2)\n",
    "])\n",
    "\n",
    "pipe4.fit(x,y)\n",
    "\n",
    "y_pred = pipe4.predict(x_test)\n",
    "\n",
    "print('R2 score',r2_score(y_test,y_pred))\n",
    "print('MAE',mean_absolute_error(y_test,y_pred))"
   ]
  },
  {
   "cell_type": "markdown",
   "id": "62ceb924",
   "metadata": {},
   "source": [
    "5) Extra trees Regressor"
   ]
  },
  {
   "cell_type": "code",
   "execution_count": 62,
   "id": "69fd9d84",
   "metadata": {},
   "outputs": [
    {
     "name": "stdout",
     "output_type": "stream",
     "text": [
      "R2 score 0.7544634169182995\n",
      "MAE 0.23832133866460528\n"
     ]
    }
   ],
   "source": [
    "from sklearn.ensemble import ExtraTreesRegressor\n",
    "\n",
    "step1 = ColumnTransformer(transformers=[\n",
    "    ('col_t',OneHotEncoder(sparse = False),[0,1,4,6,7])\n",
    "])\n",
    "\n",
    "ExtraTreesRegressor(n_estimators=500,\n",
    "                              random_state=3,\n",
    "                              max_samples=1,\n",
    "                              max_features=1,\n",
    "                              max_depth=20)\n",
    "pipe5 = Pipeline([\n",
    "    ('step1',step1),\n",
    "    ('step2',step2)\n",
    "])\n",
    "\n",
    "pipe5.fit(x_train,y_train)\n",
    "\n",
    "y_pred = pipe5.predict(x_test)\n",
    "\n",
    "print('R2 score',r2_score(y_test,y_pred))\n",
    "print('MAE',mean_absolute_error(y_test,y_pred))"
   ]
  },
  {
   "cell_type": "markdown",
   "id": "506ae546",
   "metadata": {},
   "source": [
    "6) XgBoost"
   ]
  },
  {
   "cell_type": "code",
   "execution_count": 63,
   "id": "52c47e1a",
   "metadata": {},
   "outputs": [
    {
     "name": "stdout",
     "output_type": "stream",
     "text": [
      "R2 score 0.7610114143445849\n",
      "MAE 0.23605717088487235\n"
     ]
    }
   ],
   "source": [
    "\n",
    "from xgboost import XGBRegressor\n",
    "\n",
    "step1 = ColumnTransformer(transformers=[\n",
    "    ('col_t',OneHotEncoder(handle_unknown = 'ignore',sparse = False),[0,1,4,6,7])\n",
    "])\n",
    "\n",
    "step2 = XGBRegressor(n_estimators=45,max_depth=5,learning_rate=0.5)\n",
    "\n",
    "pipe6 = Pipeline([\n",
    "    ('step1',step1),\n",
    "    ('step2',step2)\n",
    "])\n",
    "\n",
    "pipe6.fit(x_train,y_train)\n",
    "\n",
    "y_pred = pipe6.predict(x_test)\n",
    "\n",
    "print('R2 score',r2_score(y_test,y_pred))\n",
    "print('MAE',mean_absolute_error(y_test,y_pred))"
   ]
  },
  {
   "cell_type": "markdown",
   "id": "b5c14506",
   "metadata": {},
   "source": [
    "7) Gradient Boost"
   ]
  },
  {
   "cell_type": "code",
   "execution_count": 64,
   "id": "26054bca",
   "metadata": {},
   "outputs": [
    {
     "name": "stdout",
     "output_type": "stream",
     "text": [
      "R2 score 0.7629370563744884\n",
      "MAE 0.23681000446635803\n"
     ]
    }
   ],
   "source": [
    "from sklearn.ensemble import GradientBoostingRegressor\n",
    "\n",
    "step1 = ColumnTransformer(transformers=[\n",
    "    ('col_t',OneHotEncoder(sparse = False),[0,1,4,6,7])\n",
    "])\n",
    "\n",
    "step2 = GradientBoostingRegressor(n_estimators=1000)\n",
    "\n",
    "pipe7 = Pipeline([\n",
    "    ('step1',step1),\n",
    "    ('step2',step2)\n",
    "])\n",
    "\n",
    "pipe7.fit(x_train,y_train)\n",
    "\n",
    "y_pred = pipe7.predict(x_test)\n",
    "\n",
    "print('R2 score',r2_score(y_test,y_pred))\n",
    "print('MAE',mean_absolute_error(y_test,y_pred))"
   ]
  },
  {
   "cell_type": "markdown",
   "id": "e0362924",
   "metadata": {},
   "source": [
    "8) AdaBoost"
   ]
  },
  {
   "cell_type": "code",
   "execution_count": 65,
   "id": "3e8a9f75",
   "metadata": {},
   "outputs": [
    {
     "name": "stdout",
     "output_type": "stream",
     "text": [
      "R2 score 0.6425166486165079\n",
      "MAE 0.29983263902924157\n"
     ]
    }
   ],
   "source": [
    "from sklearn.ensemble import AdaBoostRegressor\n",
    "\n",
    "step1 = ColumnTransformer(transformers=[\n",
    "    ('col_t',OneHotEncoder(sparse = False),[0,1,4,6,7])\n",
    "])\n",
    "\n",
    "step2 = AdaBoostRegressor(n_estimators=25,learning_rate=1.0)\n",
    "\n",
    "pipe8 = Pipeline([\n",
    "    ('step1',step1),\n",
    "    ('step2',step2)\n",
    "])\n",
    "\n",
    "pipe8.fit(x_train,y_train)\n",
    "\n",
    "y_pred = pipe8.predict(x_test)\n",
    "\n",
    "print('R2 score',r2_score(y_test,y_pred))\n",
    "print('MAE',mean_absolute_error(y_test,y_pred))"
   ]
  },
  {
   "cell_type": "markdown",
   "id": "a35b1df0",
   "metadata": {},
   "source": [
    "9) Ridge and Lasso Regression "
   ]
  },
  {
   "cell_type": "code",
   "execution_count": 66,
   "id": "e7d1780e",
   "metadata": {},
   "outputs": [
    {
     "name": "stdout",
     "output_type": "stream",
     "text": [
      "R2 score 0.6750629440652363\n",
      "MAE 0.2661043481354963\n"
     ]
    }
   ],
   "source": [
    "from sklearn.linear_model import Ridge\n",
    "\n",
    "step1 = ColumnTransformer(transformers=[\n",
    "    ('col_t',OneHotEncoder(sparse = False),[0,1,4,6,7])\n",
    "])\n",
    "\n",
    "step2 = Ridge(alpha=10)\n",
    "\n",
    "pipe9 = Pipeline([\n",
    "    ('step1',step1),\n",
    "    ('step2',step2)\n",
    "])\n",
    "\n",
    "pipe9.fit(x_train,y_train)\n",
    "\n",
    "y_pred = pipe9.predict(x_test)\n",
    "\n",
    "print('R2 score',r2_score(y_test,y_pred))\n",
    "print('MAE',mean_absolute_error(y_test,y_pred))"
   ]
  },
  {
   "cell_type": "code",
   "execution_count": 67,
   "id": "744100ac",
   "metadata": {},
   "outputs": [
    {
     "name": "stdout",
     "output_type": "stream",
     "text": [
      "R2 score 0.6714004087161551\n",
      "MAE 0.26726368386620447\n"
     ]
    }
   ],
   "source": [
    "from sklearn.linear_model import Lasso\n",
    "\n",
    "step1 = ColumnTransformer(transformers=[\n",
    "    ('col_t',OneHotEncoder(sparse = False),[0,1,4,6,7])\n",
    "])\n",
    "\n",
    "step2 = Lasso(alpha=0.001)\n",
    "\n",
    "pipe9 = Pipeline([\n",
    "    ('step1',step1),\n",
    "    ('step2',step2)\n",
    "])\n",
    "\n",
    "pipe9.fit(x_train,y_train)\n",
    "\n",
    "y_pred = pipe9.predict(x_test)\n",
    "\n",
    "print('R2 score',r2_score(y_test,y_pred))\n",
    "print('MAE',mean_absolute_error(y_test,y_pred))"
   ]
  },
  {
   "cell_type": "markdown",
   "id": "8f923848",
   "metadata": {},
   "source": [
    "10) Stacking Regressor"
   ]
  },
  {
   "cell_type": "code",
   "execution_count": 68,
   "id": "276163ac",
   "metadata": {},
   "outputs": [
    {
     "name": "stdout",
     "output_type": "stream",
     "text": [
      "R2 score 0.7371894968198892\n",
      "MAE 0.24856488157271447\n"
     ]
    }
   ],
   "source": [
    "from sklearn.ensemble import StackingRegressor\n",
    "\n",
    "step1 = ColumnTransformer(transformers=[\n",
    "    ('col_t',OneHotEncoder(sparse = False),[0,1,4,6,7])\n",
    "])\n",
    "\n",
    "estimators = [\n",
    "    ('rf', RandomForestRegressor(n_estimators=500,random_state=5,max_samples=0.5,max_features=0.75,max_depth=15)),\n",
    "    ('gbdt',GradientBoostingRegressor(n_estimators=200,max_features=0.5)),\n",
    "    ('xgb', XGBRegressor(n_estimators=25,learning_rate=0.3,max_depth=5))\n",
    "]\n",
    "\n",
    "step2 = StackingRegressor(estimators=estimators, final_estimator=Ridge(alpha=100))\n",
    "\n",
    "pipe10 = Pipeline([\n",
    "    ('step1',step1),\n",
    "    ('step2',step2)\n",
    "])\n",
    "\n",
    "pipe10.fit(x_train,y_train)\n",
    "\n",
    "y_pred = pipe10.predict(x_test)\n",
    "\n",
    "print('R2 score',r2_score(y_test,y_pred))\n",
    "print('MAE',mean_absolute_error(y_test,y_pred))"
   ]
  },
  {
   "cell_type": "raw",
   "id": "7c9375bc",
   "metadata": {},
   "source": []
  },
  {
   "cell_type": "markdown",
   "id": "01d64bdf",
   "metadata": {},
   "source": [
    "### The Random Forest Regressor gives the highest Accuracy i.e 82% "
   ]
  },
  {
   "cell_type": "raw",
   "id": "4a3454f7",
   "metadata": {},
   "source": []
  },
  {
   "cell_type": "markdown",
   "id": "a2450d7a",
   "metadata": {},
   "source": [
    "### Step 6 :-  Exporting the Model using Pickle \n",
    "---"
   ]
  },
  {
   "cell_type": "code",
   "execution_count": 69,
   "id": "56327944",
   "metadata": {},
   "outputs": [],
   "source": [
    "import pickle ## to Export Files\n",
    "\n",
    "pickle.dump(df_model,open('Dataset.pkl','wb'))\n",
    "pickle.dump(pipe4,open('rf_model.pkl','wb'))"
   ]
  }
 ],
 "metadata": {
  "kernelspec": {
   "display_name": "Python 3 (ipykernel)",
   "language": "python",
   "name": "python3"
  },
  "language_info": {
   "codemirror_mode": {
    "name": "ipython",
    "version": 3
   },
   "file_extension": ".py",
   "mimetype": "text/x-python",
   "name": "python",
   "nbconvert_exporter": "python",
   "pygments_lexer": "ipython3",
   "version": "3.9.13"
  }
 },
 "nbformat": 4,
 "nbformat_minor": 5
}
